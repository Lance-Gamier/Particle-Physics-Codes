{
  "nbformat": 4,
  "nbformat_minor": 0,
  "metadata": {
    "colab": {
      "provenance": [],
      "authorship_tag": "ABX9TyMgM7QkW46TMh7S519ujvvo",
      "include_colab_link": true
    },
    "kernelspec": {
      "name": "python3",
      "display_name": "Python 3"
    },
    "language_info": {
      "name": "python"
    }
  },
  "cells": [
    {
      "cell_type": "markdown",
      "metadata": {
        "id": "view-in-github",
        "colab_type": "text"
      },
      "source": [
        "<a href=\"https://colab.research.google.com/github/Lance-Gamier/Particle-Physics-Codes/blob/main/CERN_Find_the_Z.ipynb\" target=\"_parent\"><img src=\"https://colab.research.google.com/assets/colab-badge.svg\" alt=\"Open In Colab\"/></a>"
      ]
    },
    {
      "cell_type": "markdown",
      "source": [
        "# Introductory steps"
      ],
      "metadata": {
        "id": "KEShxMuLaERC"
      }
    },
    {
      "cell_type": "code",
      "source": [
        "!pip install awkward-pandas"
      ],
      "metadata": {
        "colab": {
          "base_uri": "https://localhost:8080/"
        },
        "id": "aQ26Kw-mpARB",
        "outputId": "532de9c9-b3b3-47b8-d039-ed16a7e5b6fb"
      },
      "execution_count": null,
      "outputs": [
        {
          "output_type": "stream",
          "name": "stdout",
          "text": [
            "Requirement already satisfied: awkward-pandas in /usr/local/lib/python3.11/dist-packages (2023.8.0)\n",
            "Requirement already satisfied: awkward>=2.0.0 in /usr/local/lib/python3.11/dist-packages (from awkward-pandas) (2.8.3)\n",
            "Requirement already satisfied: pandas>=1.2 in /usr/local/lib/python3.11/dist-packages (from awkward-pandas) (2.2.2)\n",
            "Requirement already satisfied: awkward-cpp==46 in /usr/local/lib/python3.11/dist-packages (from awkward>=2.0.0->awkward-pandas) (46)\n",
            "Requirement already satisfied: fsspec>=2022.11.0 in /usr/local/lib/python3.11/dist-packages (from awkward>=2.0.0->awkward-pandas) (2025.3.2)\n",
            "Requirement already satisfied: importlib-metadata>=4.13.0 in /usr/local/lib/python3.11/dist-packages (from awkward>=2.0.0->awkward-pandas) (8.7.0)\n",
            "Requirement already satisfied: numpy>=1.18.0 in /usr/local/lib/python3.11/dist-packages (from awkward>=2.0.0->awkward-pandas) (2.0.2)\n",
            "Requirement already satisfied: packaging in /usr/local/lib/python3.11/dist-packages (from awkward>=2.0.0->awkward-pandas) (24.2)\n",
            "Requirement already satisfied: python-dateutil>=2.8.2 in /usr/local/lib/python3.11/dist-packages (from pandas>=1.2->awkward-pandas) (2.9.0.post0)\n",
            "Requirement already satisfied: pytz>=2020.1 in /usr/local/lib/python3.11/dist-packages (from pandas>=1.2->awkward-pandas) (2025.2)\n",
            "Requirement already satisfied: tzdata>=2022.7 in /usr/local/lib/python3.11/dist-packages (from pandas>=1.2->awkward-pandas) (2025.2)\n",
            "Requirement already satisfied: zipp>=3.20 in /usr/local/lib/python3.11/dist-packages (from importlib-metadata>=4.13.0->awkward>=2.0.0->awkward-pandas) (3.21.0)\n",
            "Requirement already satisfied: six>=1.5 in /usr/local/lib/python3.11/dist-packages (from python-dateutil>=2.8.2->pandas>=1.2->awkward-pandas) (1.17.0)\n"
          ]
        }
      ]
    },
    {
      "cell_type": "code",
      "source": [
        "!pip install uproot"
      ],
      "metadata": {
        "colab": {
          "base_uri": "https://localhost:8080/"
        },
        "id": "glBJqp2Ja6Jb",
        "outputId": "cb19551d-36f3-4d9f-9dad-50995d242aa6"
      },
      "execution_count": null,
      "outputs": [
        {
          "output_type": "stream",
          "name": "stdout",
          "text": [
            "Requirement already satisfied: uproot in /usr/local/lib/python3.11/dist-packages (5.6.2)\n",
            "Requirement already satisfied: awkward>=2.4.6 in /usr/local/lib/python3.11/dist-packages (from uproot) (2.8.3)\n",
            "Requirement already satisfied: cramjam>=2.5.0 in /usr/local/lib/python3.11/dist-packages (from uproot) (2.10.0)\n",
            "Requirement already satisfied: fsspec in /usr/local/lib/python3.11/dist-packages (from uproot) (2025.3.2)\n",
            "Requirement already satisfied: numpy in /usr/local/lib/python3.11/dist-packages (from uproot) (2.0.2)\n",
            "Requirement already satisfied: packaging in /usr/local/lib/python3.11/dist-packages (from uproot) (24.2)\n",
            "Requirement already satisfied: xxhash in /usr/local/lib/python3.11/dist-packages (from uproot) (3.5.0)\n",
            "Requirement already satisfied: awkward-cpp==46 in /usr/local/lib/python3.11/dist-packages (from awkward>=2.4.6->uproot) (46)\n",
            "Requirement already satisfied: importlib-metadata>=4.13.0 in /usr/local/lib/python3.11/dist-packages (from awkward>=2.4.6->uproot) (8.7.0)\n",
            "Requirement already satisfied: zipp>=3.20 in /usr/local/lib/python3.11/dist-packages (from importlib-metadata>=4.13.0->awkward>=2.4.6->uproot) (3.21.0)\n"
          ]
        }
      ]
    },
    {
      "cell_type": "code",
      "source": [
        "import urllib.request # for downloading files\n",
        "import pandas as pd # to store data as dataframes\n",
        "import numpy as np # for numerical calculations such as histogramming\n",
        "import matplotlib.pyplot as plt # for plotting"
      ],
      "metadata": {
        "id": "-mv_kdLYYjN_"
      },
      "execution_count": null,
      "outputs": []
    },
    {
      "cell_type": "code",
      "source": [
        "filename = 'data_A.exactly2lep.root'\n",
        "url = 'https://atlas-opendata.web.cern.ch/atlas-opendata/samples/2020/exactly2lep/Data/' + filename\n",
        "urllib.request.urlretrieve(url, filename)"
      ],
      "metadata": {
        "colab": {
          "base_uri": "https://localhost:8080/"
        },
        "id": "QAARQkprYvnt",
        "outputId": "6a7e880a-82fc-4b76-833a-c78bee5a5794"
      },
      "execution_count": null,
      "outputs": [
        {
          "output_type": "execute_result",
          "data": {
            "text/plain": [
              "('data_A.exactly2lep.root', <http.client.HTTPMessage at 0x7f773c945b50>)"
            ]
          },
          "metadata": {},
          "execution_count": 4
        }
      ]
    },
    {
      "cell_type": "code",
      "source": [
        "import uproot\n",
        "\n",
        "file = uproot.open(\"/content/data_A.exactly2lep.root\")\n",
        "\n",
        "file.keys()"
      ],
      "metadata": {
        "colab": {
          "base_uri": "https://localhost:8080/"
        },
        "id": "J6BTNk3SaqN5",
        "outputId": "ec90fe8c-45dc-4c96-c490-4c1d07f30288"
      },
      "execution_count": null,
      "outputs": [
        {
          "output_type": "execute_result",
          "data": {
            "text/plain": [
              "['mini;1']"
            ]
          },
          "metadata": {},
          "execution_count": 5
        }
      ]
    },
    {
      "cell_type": "markdown",
      "source": [
        "# Calculate the invariant mass"
      ],
      "metadata": {
        "id": "qdWD4ru2aIkQ"
      }
    },
    {
      "cell_type": "code",
      "source": [
        "def calc_mll(lep_pt, lep_eta, lep_phi, lep_E):\n",
        "\n",
        "  sum_E = lep_E[0] + lep_E[1]\n",
        "\n",
        "  px_0 = lep_pt * np.cos(lep_phi[0])\n",
        "  py_0 = lep_pt * np.sin(lep_phi[0])\n",
        "  pz_0 = lep_pt * np.sinh(lep_eta[0])\n",
        "\n",
        "  px_1 = lep_pt * np.cos(lep_phi[1])\n",
        "  py_1 = lep_pt * np.sin(lep_phi[1])\n",
        "  pz_1 = lep_pt * np.sinh(lep_eta[1])\n",
        "\n",
        "  sumpx = px_0 + px_1\n",
        "  sumpy = py_0 + py_1\n",
        "  sumpz = pz_0 + py_1\n",
        "\n",
        "  Mll = sum_E**2 - (sumpx**2 + sumpy**2 + sumpz**2)\n",
        "\n",
        "  return np.sqrt(np.maximum(Mll, 0)) / 1000"
      ],
      "metadata": {
        "id": "2YHyrat7Y0WU"
      },
      "execution_count": null,
      "outputs": []
    },
    {
      "cell_type": "markdown",
      "source": [
        "# Process the Data"
      ],
      "metadata": {
        "id": "v7yrkmwxe7Ib"
      }
    },
    {
      "cell_type": "markdown",
      "source": [
        "# Function to plot Data"
      ],
      "metadata": {
        "id": "mHDSyxeFprP-"
      }
    },
    {
      "cell_type": "code",
      "source": [
        "import numpy as np\n",
        "import awkward as ak\n",
        "\n",
        "data_all = pd.DataFrame()\n",
        "tree = uproot.open(filename)[\"mini\"]\n",
        "numevents = tree.num_entries\n",
        "\n",
        "for data in tree.iterate(\n",
        "    [\"lep_pt\", \"lep_eta\", \"lep_phi\", \"lep_E\"],\n",
        "    library=\"ak\",\n",
        "    entry_stop=int(numevents * 0.001),\n",
        "):\n",
        "    # Filter for events with exactly 2 leptons\n",
        "    # mask = ak.num(data[\"lep_pt\"]) == 2\n",
        "    # data = data[mask]\n",
        "\n",
        "    # Zip the arrays together\n",
        "    zipped = ak.zip({\n",
        "        \"lep_pt\": data[\"lep_pt\"],\n",
        "        \"lep_eta\": data[\"lep_eta\"],\n",
        "        \"lep_phi\": data[\"lep_phi\"],\n",
        "        \"lep_E\": data[\"lep_E\"],\n",
        "    })\n",
        "\n",
        "    # Apply calc_mll to each event\n",
        "    mll_values = ak.Array([calc_mll(ev[\"lep_pt\"], ev[\"lep_eta\"], ev[\"lep_phi\"], ev[\"lep_E\"]) for ev in zipped])\n",
        "\n",
        "    # Convert to DataFrame\n",
        "    df = ak.to_dataframe({\"mll\": mll_values})\n",
        "    data_all = pd.concat([data_all, df], ignore_index=True)"
      ],
      "metadata": {
        "id": "xOhrxFGVe-Iz"
      },
      "execution_count": null,
      "outputs": []
    },
    {
      "cell_type": "code",
      "source": [
        "bin_edges = np.arange(start = 35, stop = 110, step = 5)\n",
        "\n",
        "bin_centres = (bin_edges[:-1] + bin_edges[1:]) / 2\n",
        "\n",
        "data_x,_ = np.histogram(data_all['mll'], bins = bin_edges)\n",
        "\n",
        "data_x_errors = np.sqrt(data_x)\n",
        "\n",
        "plt.errorbar(x = bin_centres, y = data_x, yerr = data_x_errors, fmt = 'ko')\n",
        "\n",
        "plt.xlabel('Mll [GEV]')\n",
        "plt.ylabel('Events')\n",
        "plt.yscale('log')"
      ],
      "metadata": {
        "colab": {
          "base_uri": "https://localhost:8080/",
          "height": 449
        },
        "id": "KZqe0QTxjZCi",
        "outputId": "b51d7c03-bd95-447b-a98e-a20c276c1cf5"
      },
      "execution_count": null,
      "outputs": [
        {
          "output_type": "display_data",
          "data": {
            "text/plain": [
              "<Figure size 640x480 with 1 Axes>"
            ],
            "image/png": "[encoded data removed]"
          },
          "metadata": {}
        }
      ]
    },
    {
      "cell_type": "code",
      "source": [],
      "metadata": {
        "id": "zBGt04p5s4fP"
      },
      "execution_count": null,
      "outputs": []
    }
  ]
}