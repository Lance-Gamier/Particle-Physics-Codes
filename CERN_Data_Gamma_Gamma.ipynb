{
  "nbformat": 4,
  "nbformat_minor": 0,
  "metadata": {
    "colab": {
      "provenance": [],
      "authorship_tag": "ABX9TyNEJOC4W7VyBS405hiDVkHo",
      "include_colab_link": true
    },
    "kernelspec": {
      "name": "python3",
      "display_name": "Python 3"
    },
    "language_info": {
      "name": "python"
    }
  },
  "cells": [
    {
      "cell_type": "markdown",
      "metadata": {
        "id": "view-in-github",
        "colab_type": "text"
      },
      "source": [
        "<a href=\"https://colab.research.google.com/github/Lance-Gamier/Particle-Physics-Codes/blob/main/CERN_Data_Gamma_Gamma.ipynb\" target=\"_parent\"><img src=\"https://colab.research.google.com/assets/colab-badge.svg\" alt=\"Open In Colab\"/></a>"
      ]
    },
    {
      "cell_type": "markdown",
      "source": [
        "# Install Packages"
      ],
      "metadata": {
        "id": "qsq5irO_1dhn"
      }
    },
    {
      "cell_type": "code",
      "execution_count": null,
      "metadata": {
        "colab": {
          "base_uri": "https://localhost:8080/"
        },
        "id": "4o6GzTogs_3M",
        "outputId": "ff124745-d736-4930-b3d2-49a59671263f"
      },
      "outputs": [
        {
          "output_type": "stream",
          "name": "stdout",
          "text": [
            "✨🍰✨ Everything looks OK!\n"
          ]
        }
      ],
      "source": [
        "# In Google Colab\n",
        "!pip install -q condacolab\n",
        "import condacolab\n",
        "condacolab.install()\n",
        "\n",
        "# Restart kernel after this cell, then continue:"
      ]
    },
    {
      "cell_type": "code",
      "source": [
        "!pip install uproot"
      ],
      "metadata": {
        "colab": {
          "base_uri": "https://localhost:8080/"
        },
        "id": "8WZUJYjrGV-i",
        "outputId": "297d2bd4-3948-409b-9105-c3faf48b8c0b"
      },
      "execution_count": null,
      "outputs": [
        {
          "output_type": "stream",
          "name": "stdout",
          "text": [
            "Requirement already satisfied: uproot in /usr/local/lib/python3.11/site-packages (5.6.1)\n",
            "Requirement already satisfied: awkward>=2.4.6 in /usr/local/lib/python3.11/site-packages (from uproot) (2.8.1)\n",
            "Requirement already satisfied: cramjam>=2.5.0 in /usr/local/lib/python3.11/site-packages (from uproot) (2.10.0)\n",
            "Requirement already satisfied: fsspec in /usr/local/lib/python3.11/site-packages (from uproot) (2025.3.2)\n",
            "Requirement already satisfied: numpy in /usr/local/lib/python3.11/site-packages (from uproot) (2.2.5)\n",
            "Requirement already satisfied: packaging in /usr/local/lib/python3.11/site-packages (from uproot) (24.2)\n",
            "Requirement already satisfied: xxhash in /usr/local/lib/python3.11/site-packages (from uproot) (3.5.0)\n",
            "Requirement already satisfied: awkward-cpp==45 in /usr/local/lib/python3.11/site-packages (from awkward>=2.4.6->uproot) (45)\n",
            "Requirement already satisfied: importlib-metadata>=4.13.0 in /usr/local/lib/python3.11/site-packages (from awkward>=2.4.6->uproot) (8.6.1)\n",
            "Requirement already satisfied: zipp>=3.20 in /usr/local/lib/python3.11/site-packages (from importlib-metadata>=4.13.0->awkward>=2.4.6->uproot) (3.21.0)\n"
          ]
        }
      ]
    },
    {
      "cell_type": "code",
      "source": [
        "!pip install awkward-pandas"
      ],
      "metadata": {
        "colab": {
          "base_uri": "https://localhost:8080/"
        },
        "id": "ph2xYBOMJXfX",
        "outputId": "a8ab3bdd-e200-40dd-ef03-a218514fcf9f"
      },
      "execution_count": null,
      "outputs": [
        {
          "output_type": "stream",
          "name": "stdout",
          "text": [
            "Requirement already satisfied: awkward-pandas in /usr/local/lib/python3.11/site-packages (2023.8.0)\n",
            "Requirement already satisfied: awkward>=2.0.0 in /usr/local/lib/python3.11/site-packages (from awkward-pandas) (2.8.1)\n",
            "Requirement already satisfied: pandas>=1.2 in /usr/local/lib/python3.11/site-packages (from awkward-pandas) (2.2.3)\n",
            "Requirement already satisfied: awkward-cpp==45 in /usr/local/lib/python3.11/site-packages (from awkward>=2.0.0->awkward-pandas) (45)\n",
            "Requirement already satisfied: fsspec>=2022.11.0 in /usr/local/lib/python3.11/site-packages (from awkward>=2.0.0->awkward-pandas) (2025.3.2)\n",
            "Requirement already satisfied: importlib-metadata>=4.13.0 in /usr/local/lib/python3.11/site-packages (from awkward>=2.0.0->awkward-pandas) (8.6.1)\n",
            "Requirement already satisfied: numpy>=1.18.0 in /usr/local/lib/python3.11/site-packages (from awkward>=2.0.0->awkward-pandas) (2.2.5)\n",
            "Requirement already satisfied: packaging in /usr/local/lib/python3.11/site-packages (from awkward>=2.0.0->awkward-pandas) (24.2)\n",
            "Requirement already satisfied: python-dateutil>=2.8.2 in /usr/local/lib/python3.11/site-packages (from pandas>=1.2->awkward-pandas) (2.9.0.post0)\n",
            "Requirement already satisfied: pytz>=2020.1 in /usr/local/lib/python3.11/site-packages (from pandas>=1.2->awkward-pandas) (2025.2)\n",
            "Requirement already satisfied: tzdata>=2022.7 in /usr/local/lib/python3.11/site-packages (from pandas>=1.2->awkward-pandas) (2025.2)\n",
            "Requirement already satisfied: zipp>=3.20 in /usr/local/lib/python3.11/site-packages (from importlib-metadata>=4.13.0->awkward>=2.0.0->awkward-pandas) (3.21.0)\n",
            "Requirement already satisfied: six>=1.5 in /usr/local/lib/python3.11/site-packages (from python-dateutil>=2.8.2->pandas>=1.2->awkward-pandas) (1.17.0)\n"
          ]
        }
      ]
    },
    {
      "cell_type": "code",
      "source": [
        "!pip install pyhepmc"
      ],
      "metadata": {
        "colab": {
          "base_uri": "https://localhost:8080/"
        },
        "id": "4yAjAyI7FZoW",
        "outputId": "cf2ef551-41e3-4c3d-a1fa-869e432935ee"
      },
      "execution_count": null,
      "outputs": [
        {
          "output_type": "stream",
          "name": "stdout",
          "text": [
            "Requirement already satisfied: pyhepmc in /usr/local/lib/python3.11/site-packages (2.14.0)\n",
            "Requirement already satisfied: numpy>=1.21 in /usr/local/lib/python3.11/site-packages (from pyhepmc) (2.2.5)\n",
            "Requirement already satisfied: packaging in /usr/local/lib/python3.11/site-packages (from pyhepmc) (24.2)\n"
          ]
        }
      ]
    },
    {
      "cell_type": "markdown",
      "source": [
        "# Test on various datasets inside the same directory\n",
        "\n",
        "### Directory: https://atlas-opendata.web.cern.ch/atlas-opendata/samples/2020/GamGam/MC/"
      ],
      "metadata": {
        "id": "zNCzkh1TJ6us"
      }
    },
    {
      "cell_type": "code",
      "source": [
        "import uproot\n",
        "\n",
        "directory = \"https://atlas-opendata.web.cern.ch/atlas-opendata/samples/2020/GamGam/MC/\"\n",
        "\n",
        "item_1 = \"mc_341081.ttH125_gamgam.GamGam.root\"\n",
        "item_2 = \"mc_343981.ggH125_gamgam.GamGam.root\"\n",
        "item_3 = \"mc_345041.VBFH125_gamgam.GamGam.root\"\n",
        "item_4 = \"mc_345318.WpH125J_Wincl_gamgam.GamGam.root\"\n",
        "item_5 = \"mc_345319.ZH125J_Zincl_gamgam.GamGam.root\"\n",
        "\n",
        "file_1 = uproot.open(directory + item_1)\n",
        "file_2 = uproot.open(directory + item_2)\n",
        "file_3 = uproot.open(directory + item_3)\n",
        "file_4 = uproot.open(directory + item_4)\n",
        "file_5 = uproot.open(directory + item_5)"
      ],
      "metadata": {
        "id": "yX7i_7xGIxBT"
      },
      "execution_count": null,
      "outputs": []
    },
    {
      "cell_type": "code",
      "source": [
        "print(  file_1.keys()  )\n",
        "print(  file_2.keys()  )\n",
        "print(  file_3.keys()  )\n",
        "print(  file_4.keys()  )\n",
        "print(  file_5.keys()  )"
      ],
      "metadata": {
        "colab": {
          "base_uri": "https://localhost:8080/"
        },
        "id": "NCQ1eHbHogiC",
        "outputId": "3b030381-abb1-49cf-fb0b-e31c43f2453c"
      },
      "execution_count": null,
      "outputs": [
        {
          "output_type": "stream",
          "name": "stdout",
          "text": [
            "['mini;1']\n",
            "['mini;1']\n",
            "['mini;1']\n",
            "['mini;1']\n",
            "['mini;1']\n"
          ]
        }
      ]
    },
    {
      "cell_type": "markdown",
      "source": [
        "# Convert root dataset to HepMC"
      ],
      "metadata": {
        "id": "uAlsN4vWEiL6"
      }
    },
    {
      "cell_type": "code",
      "execution_count": null,
      "metadata": {
        "id": "qTX3zJHgBbOR"
      },
      "outputs": [],
      "source": [
        "import pyhepmc\n",
        "\n",
        "tree_1 = file_1[\"mini\"]\n",
        "tree_2 = file_2[\"mini\"]\n",
        "tree_3 = file_3[\"mini\"]\n",
        "tree_4 = file_4[\"mini\"]\n",
        "tree_5 = file_5[\"mini\"]"
      ]
    },
    {
      "cell_type": "code",
      "source": [
        "particle_data = tree.arrays([\"particle_ID\", \"px\", \"py\", \"pz\", \"energy\"], library=\"np\")\n",
        "for idx, data in enumerate(particle_data):\n",
        "    particle = pyhepmc.Particle()\n",
        "    particle.set_id(data[\"particle_ID\"])  # Particle ID from ROOT\n",
        "    particle.set_momentum(data[\"px\"], data[\"py\"], data[\"pz\"], data[\"energy\"])"
      ],
      "metadata": {
        "id": "ZDBxaFJVG2Zt"
      },
      "execution_count": null,
      "outputs": []
    },
    {
      "cell_type": "code",
      "source": [
        "import pandas as pd\n",
        "\n",
        "df_1 = tree_1.arrays(library = \"pd\")\n",
        "df_2 = tree_2.arrays(library = \"pd\")\n",
        "df_3 = tree_3.arrays(library = \"pd\")\n",
        "df_4 = tree_4.arrays(library = \"pd\")\n",
        "df_5 = tree_5.arrays(library = \"pd\")"
      ],
      "metadata": {
        "id": "ILUnWGdZIWi3"
      },
      "execution_count": null,
      "outputs": []
    },
    {
      "cell_type": "code",
      "source": [
        "df_1.columns"
      ],
      "metadata": {
        "colab": {
          "base_uri": "https://localhost:8080/"
        },
        "id": "uIFETeuEGyQT",
        "outputId": "a67ca6ba-868f-4c05-c465-845b9f2a2edb"
      },
      "execution_count": null,
      "outputs": [
        {
          "output_type": "execute_result",
          "data": {
            "text/plain": [
              "Index(['runNumber', 'eventNumber', 'channelNumber', 'mcWeight',\n",
              "       'scaleFactor_PILEUP', 'scaleFactor_ELE', 'scaleFactor_MUON',\n",
              "       'scaleFactor_PHOTON', 'scaleFactor_TAU', 'scaleFactor_BTAG',\n",
              "       'scaleFactor_LepTRIGGER', 'scaleFactor_PhotonTRIGGER', 'trigE', 'trigM',\n",
              "       'trigP', 'lep_n', 'lep_truthMatched', 'lep_trigMatched', 'lep_pt',\n",
              "       'lep_eta', 'lep_phi', 'lep_E', 'lep_z0', 'lep_charge', 'lep_type',\n",
              "       'lep_isTightID', 'lep_ptcone30', 'lep_etcone20',\n",
              "       'lep_trackd0pvunbiased', 'lep_tracksigd0pvunbiased', 'met_et',\n",
              "       'met_phi', 'jet_n', 'jet_pt', 'jet_eta', 'jet_phi', 'jet_E', 'jet_jvt',\n",
              "       'jet_trueflav', 'jet_truthMatched', 'jet_MV2c10', 'photon_n',\n",
              "       'photon_truthMatched', 'photon_trigMatched', 'photon_pt', 'photon_eta',\n",
              "       'photon_phi', 'photon_E', 'photon_isTightID', 'photon_ptcone30',\n",
              "       'photon_etcone20', 'photon_convType', 'tau_n', 'tau_pt', 'tau_eta',\n",
              "       'tau_phi', 'tau_E', 'tau_isTightID', 'tau_truthMatched',\n",
              "       'tau_trigMatched', 'tau_nTracks', 'tau_BDTid', 'ditau_m', 'lep_pt_syst',\n",
              "       'met_et_syst', 'jet_pt_syst', 'photon_pt_syst', 'tau_pt_syst',\n",
              "       'XSection', 'SumWeights', 'largeRjet_n', 'largeRjet_pt',\n",
              "       'largeRjet_eta', 'largeRjet_phi', 'largeRjet_E', 'largeRjet_m',\n",
              "       'largeRjet_truthMatched', 'largeRjet_D2', 'largeRjet_tau32',\n",
              "       'largeRjet_pt_syst', 'tau_charge'],\n",
              "      dtype='object')"
            ]
          },
          "metadata": {},
          "execution_count": 24
        }
      ]
    },
    {
      "cell_type": "code",
      "source": [],
      "metadata": {
        "id": "H8KzKSMcNjk6"
      },
      "execution_count": null,
      "outputs": []
    }
  ]
}