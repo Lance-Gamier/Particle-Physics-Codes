{
  "nbformat": 4,
  "nbformat_minor": 0,
  "metadata": {
    "colab": {
      "provenance": [],
      "authorship_tag": "ABX9TyM7K2l0cwe4ZskWjTcgQJZM",
      "include_colab_link": true
    },
    "kernelspec": {
      "name": "python3",
      "display_name": "Python 3"
    },
    "language_info": {
      "name": "python"
    }
  },
  "cells": [
    {
      "cell_type": "markdown",
      "metadata": {
        "id": "view-in-github",
        "colab_type": "text"
      },
      "source": [
        "<a href=\"https://colab.research.google.com/github/Lance-Gamier/Particle-Physics-Codes/blob/main/CERN_MadGraph_HepMC.ipynb\" target=\"_parent\"><img src=\"https://colab.research.google.com/assets/colab-badge.svg\" alt=\"Open In Colab\"/></a>"
      ]
    },
    {
      "cell_type": "markdown",
      "source": [
        "# Install Package First. Run only once, no need to Rerun."
      ],
      "metadata": {
        "id": "4yyNbdNyCesQ"
      }
    },
    {
      "cell_type": "code",
      "execution_count": null,
      "metadata": {
        "colab": {
          "base_uri": "https://localhost:8080/"
        },
        "id": "4o6GzTogs_3M",
        "outputId": "14149243-f653-457d-d612-5d049090035d"
      },
      "outputs": [
        {
          "output_type": "stream",
          "name": "stdout",
          "text": [
            "✨🍰✨ Everything looks OK!\n"
          ]
        }
      ],
      "source": [
        "# In Google Colab\n",
        "!pip install -q condacolab\n",
        "import condacolab\n",
        "condacolab.install()\n",
        "\n",
        "# Restart kernel after this cell, then continue:"
      ]
    },
    {
      "cell_type": "code",
      "source": [
        "!apt-get update\n",
        "!apt-get install -y texlive-latex-base texlive-latex-extra texlive-fonts-recommended latexmk\n",
        "!apt-get install -y texlive-luatex\n",
        "!apt-get install -y poppler-utils\n",
        "!pip install pdf2image"
      ],
      "metadata": {
        "colab": {
          "base_uri": "https://localhost:8080/"
        },
        "id": "ImjT-eResSFZ",
        "outputId": "9371853f-1d6a-4b9b-d8f2-398751b66c1f"
      },
      "execution_count": null,
      "outputs": [
        {
          "output_type": "stream",
          "name": "stdout",
          "text": [
            "\r0% [Working]\r            \rHit:1 http://archive.ubuntu.com/ubuntu jammy InRelease\n",
            "\r0% [Connecting to security.ubuntu.com] [Connecting to cloud.r-project.org (18.1\r                                                                               \rHit:2 http://archive.ubuntu.com/ubuntu jammy-updates InRelease\n",
            "Hit:3 http://archive.ubuntu.com/ubuntu jammy-backports InRelease\n",
            "Hit:4 https://cloud.r-project.org/bin/linux/ubuntu jammy-cran40/ InRelease\n",
            "Hit:5 https://r2u.stat.illinois.edu/ubuntu jammy InRelease\n",
            "Hit:6 http://security.ubuntu.com/ubuntu jammy-security InRelease\n",
            "Hit:7 https://developer.download.nvidia.com/compute/cuda/repos/ubuntu2204/x86_64  InRelease\n",
            "Hit:8 https://ppa.launchpadcontent.net/deadsnakes/ppa/ubuntu jammy InRelease\n",
            "Hit:9 https://ppa.launchpadcontent.net/graphics-drivers/ppa/ubuntu jammy InRelease\n",
            "Hit:10 https://ppa.launchpadcontent.net/ubuntugis/ppa/ubuntu jammy InRelease\n",
            "Reading package lists... Done\n",
            "W: Skipping acquire of configured file 'main/source/Sources' as repository 'https://r2u.stat.illinois.edu/ubuntu jammy InRelease' does not seem to provide it (sources.list entry misspelt?)\n",
            "Reading package lists... Done\n",
            "Building dependency tree... Done\n",
            "Reading state information... Done\n",
            "latexmk is already the newest version (1:4.76-1).\n",
            "texlive-fonts-recommended is already the newest version (2021.20220204-1).\n",
            "texlive-latex-base is already the newest version (2021.20220204-1).\n",
            "texlive-latex-extra is already the newest version (2021.20220204-1).\n",
            "0 upgraded, 0 newly installed, 0 to remove and 36 not upgraded.\n",
            "2 not fully installed or removed.\n",
            "After this operation, 0 B of additional disk space will be used.\n",
            "Setting up tex-common (6.17) ...\n",
            "Running mktexlsr. This may take some time... done.\n",
            "Running updmap-sys. This may take some time... done.\n",
            "Running mktexlsr /var/lib/texmf ... done.\n",
            "Building format(s) --all.\n",
            "\tThis may take some time... \n",
            "fmtutil failed. Output has been stored in\n",
            "/tmp/fmtutil.u9oZ1x4L\n",
            "Please include this file if you report a bug.\n",
            "\n",
            "dpkg: error processing package tex-common (--configure):\n",
            " installed tex-common package post-installation script subprocess returned error exit status 1\n",
            "dpkg: dependency problems prevent configuration of texlive-luatex:\n",
            " texlive-luatex depends on tex-common (>= 6.13); however:\n",
            "  Package tex-common is not configured yet.\n",
            "\n",
            "dpkg: error processing package texlive-luatex (--configure):\n",
            " dependency problems - leaving unconfigured\n",
            "Errors were encountered while processing:\n",
            " tex-common\n",
            " texlive-luatex\n",
            "E: Sub-process /usr/bin/dpkg returned an error code (1)\n",
            "Reading package lists... Done\n",
            "Building dependency tree... Done\n",
            "Reading state information... Done\n",
            "texlive-luatex is already the newest version (2021.20220204-1).\n",
            "0 upgraded, 0 newly installed, 0 to remove and 36 not upgraded.\n",
            "2 not fully installed or removed.\n",
            "After this operation, 0 B of additional disk space will be used.\n",
            "Setting up tex-common (6.17) ...\n",
            "Running mktexlsr. This may take some time... done.\n",
            "Running updmap-sys. This may take some time... done.\n",
            "Running mktexlsr /var/lib/texmf ... done.\n",
            "Building format(s) --all.\n",
            "\tThis may take some time... \n",
            "fmtutil failed. Output has been stored in\n",
            "/tmp/fmtutil.GVTqrYLA\n",
            "Please include this file if you report a bug.\n",
            "\n",
            "dpkg: error processing package tex-common (--configure):\n",
            " installed tex-common package post-installation script subprocess returned error exit status 1\n",
            "dpkg: dependency problems prevent configuration of texlive-luatex:\n",
            " texlive-luatex depends on tex-common (>= 6.13); however:\n",
            "  Package tex-common is not configured yet.\n",
            "\n",
            "dpkg: error processing package texlive-luatex (--configure):\n",
            " dependency problems - leaving unconfigured\n",
            "Errors were encountered while processing:\n",
            " tex-common\n",
            " texlive-luatex\n",
            "E: Sub-process /usr/bin/dpkg returned an error code (1)\n",
            "Reading package lists... Done\n",
            "Building dependency tree... Done\n",
            "Reading state information... Done\n",
            "poppler-utils is already the newest version (22.02.0-2ubuntu0.8).\n",
            "0 upgraded, 0 newly installed, 0 to remove and 36 not upgraded.\n",
            "2 not fully installed or removed.\n",
            "After this operation, 0 B of additional disk space will be used.\n",
            "Setting up tex-common (6.17) ...\n",
            "Running mktexlsr. This may take some time... done.\n",
            "Running updmap-sys. This may take some time... done.\n",
            "Running mktexlsr /var/lib/texmf ... done.\n",
            "Building format(s) --all.\n",
            "\tThis may take some time... \n",
            "fmtutil failed. Output has been stored in\n",
            "/tmp/fmtutil.f3ZEFtBo\n",
            "Please include this file if you report a bug.\n",
            "\n",
            "dpkg: error processing package tex-common (--configure):\n",
            " installed tex-common package post-installation script subprocess returned error exit status 1\n",
            "dpkg: dependency problems prevent configuration of texlive-luatex:\n",
            " texlive-luatex depends on tex-common (>= 6.13); however:\n",
            "  Package tex-common is not configured yet.\n",
            "\n",
            "dpkg: error processing package texlive-luatex (--configure):\n",
            " dependency problems - leaving unconfigured\n",
            "Errors were encountered while processing:\n",
            " tex-common\n",
            " texlive-luatex\n",
            "E: Sub-process /usr/bin/dpkg returned an error code (1)\n",
            "Requirement already satisfied: pdf2image in /usr/local/lib/python3.11/site-packages (1.17.0)\n",
            "Requirement already satisfied: pillow in /usr/local/lib/python3.11/site-packages (from pdf2image) (11.2.1)\n"
          ]
        }
      ]
    },
    {
      "cell_type": "code",
      "source": [
        "!pip install uproot"
      ],
      "metadata": {
        "colab": {
          "base_uri": "https://localhost:8080/"
        },
        "id": "8WZUJYjrGV-i",
        "outputId": "78869073-8321-463c-db6e-7cfe8dac20ff"
      },
      "execution_count": null,
      "outputs": [
        {
          "output_type": "stream",
          "name": "stdout",
          "text": [
            "Requirement already satisfied: uproot in /usr/local/lib/python3.11/site-packages (5.6.1)\n",
            "Requirement already satisfied: awkward>=2.4.6 in /usr/local/lib/python3.11/site-packages (from uproot) (2.8.2)\n",
            "Requirement already satisfied: cramjam>=2.5.0 in /usr/local/lib/python3.11/site-packages (from uproot) (2.10.0)\n",
            "Requirement already satisfied: fsspec in /usr/local/lib/python3.11/site-packages (from uproot) (2025.3.2)\n",
            "Requirement already satisfied: numpy in /usr/local/lib/python3.11/site-packages (from uproot) (2.2.5)\n",
            "Requirement already satisfied: packaging in /usr/local/lib/python3.11/site-packages (from uproot) (24.2)\n",
            "Requirement already satisfied: xxhash in /usr/local/lib/python3.11/site-packages (from uproot) (3.5.0)\n",
            "Requirement already satisfied: awkward-cpp==45 in /usr/local/lib/python3.11/site-packages (from awkward>=2.4.6->uproot) (45)\n",
            "Requirement already satisfied: importlib-metadata>=4.13.0 in /usr/local/lib/python3.11/site-packages (from awkward>=2.4.6->uproot) (8.7.0)\n",
            "Requirement already satisfied: zipp>=3.20 in /usr/local/lib/python3.11/site-packages (from importlib-metadata>=4.13.0->awkward>=2.4.6->uproot) (3.21.0)\n"
          ]
        }
      ]
    },
    {
      "cell_type": "code",
      "source": [
        "!pip install awkward-pandas"
      ],
      "metadata": {
        "colab": {
          "base_uri": "https://localhost:8080/"
        },
        "id": "ph2xYBOMJXfX",
        "outputId": "54902e10-2277-41ea-ead3-03d9e31bcdd6"
      },
      "execution_count": null,
      "outputs": [
        {
          "output_type": "stream",
          "name": "stdout",
          "text": [
            "Requirement already satisfied: awkward-pandas in /usr/local/lib/python3.11/site-packages (2023.8.0)\n",
            "Requirement already satisfied: awkward>=2.0.0 in /usr/local/lib/python3.11/site-packages (from awkward-pandas) (2.8.2)\n",
            "Requirement already satisfied: pandas>=1.2 in /usr/local/lib/python3.11/site-packages (from awkward-pandas) (2.2.3)\n",
            "Requirement already satisfied: awkward-cpp==45 in /usr/local/lib/python3.11/site-packages (from awkward>=2.0.0->awkward-pandas) (45)\n",
            "Requirement already satisfied: fsspec>=2022.11.0 in /usr/local/lib/python3.11/site-packages (from awkward>=2.0.0->awkward-pandas) (2025.3.2)\n",
            "Requirement already satisfied: importlib-metadata>=4.13.0 in /usr/local/lib/python3.11/site-packages (from awkward>=2.0.0->awkward-pandas) (8.7.0)\n",
            "Requirement already satisfied: numpy>=1.18.0 in /usr/local/lib/python3.11/site-packages (from awkward>=2.0.0->awkward-pandas) (2.2.5)\n",
            "Requirement already satisfied: packaging in /usr/local/lib/python3.11/site-packages (from awkward>=2.0.0->awkward-pandas) (24.2)\n",
            "Requirement already satisfied: python-dateutil>=2.8.2 in /usr/local/lib/python3.11/site-packages (from pandas>=1.2->awkward-pandas) (2.9.0.post0)\n",
            "Requirement already satisfied: pytz>=2020.1 in /usr/local/lib/python3.11/site-packages (from pandas>=1.2->awkward-pandas) (2025.2)\n",
            "Requirement already satisfied: tzdata>=2022.7 in /usr/local/lib/python3.11/site-packages (from pandas>=1.2->awkward-pandas) (2025.2)\n",
            "Requirement already satisfied: zipp>=3.20 in /usr/local/lib/python3.11/site-packages (from importlib-metadata>=4.13.0->awkward>=2.0.0->awkward-pandas) (3.21.0)\n",
            "Requirement already satisfied: six>=1.5 in /usr/local/lib/python3.11/site-packages (from python-dateutil>=2.8.2->pandas>=1.2->awkward-pandas) (1.17.0)\n"
          ]
        }
      ]
    },
    {
      "cell_type": "code",
      "source": [
        "!pip install pylhe\n",
        "!pip install pyhepmc"
      ],
      "metadata": {
        "colab": {
          "base_uri": "https://localhost:8080/"
        },
        "id": "zlSE6b9BaFeU",
        "outputId": "668e8515-0863-4fff-e00e-af5b7db629b0"
      },
      "execution_count": null,
      "outputs": [
        {
          "output_type": "stream",
          "name": "stdout",
          "text": [
            "Requirement already satisfied: pylhe in /usr/local/lib/python3.11/site-packages (0.9.1)\n",
            "Requirement already satisfied: awkward>=1.2.0 in /usr/local/lib/python3.11/site-packages (from pylhe) (2.8.2)\n",
            "Requirement already satisfied: graphviz>=0.12.0 in /usr/local/lib/python3.11/site-packages (from pylhe) (0.20.3)\n",
            "Requirement already satisfied: particle>=0.16 in /usr/local/lib/python3.11/site-packages (from pylhe) (0.25.3)\n",
            "Requirement already satisfied: vector>=0.8.1 in /usr/local/lib/python3.11/site-packages (from pylhe) (1.6.2)\n",
            "Requirement already satisfied: awkward-cpp==45 in /usr/local/lib/python3.11/site-packages (from awkward>=1.2.0->pylhe) (45)\n",
            "Requirement already satisfied: fsspec>=2022.11.0 in /usr/local/lib/python3.11/site-packages (from awkward>=1.2.0->pylhe) (2025.3.2)\n",
            "Requirement already satisfied: importlib-metadata>=4.13.0 in /usr/local/lib/python3.11/site-packages (from awkward>=1.2.0->pylhe) (8.7.0)\n",
            "Requirement already satisfied: numpy>=1.18.0 in /usr/local/lib/python3.11/site-packages (from awkward>=1.2.0->pylhe) (2.2.5)\n",
            "Requirement already satisfied: packaging in /usr/local/lib/python3.11/site-packages (from awkward>=1.2.0->pylhe) (24.2)\n",
            "Requirement already satisfied: attrs>=19.2 in /usr/local/lib/python3.11/site-packages (from particle>=0.16->pylhe) (25.3.0)\n",
            "Requirement already satisfied: hepunits>=2.0.0 in /usr/local/lib/python3.11/site-packages (from particle>=0.16->pylhe) (2.3.5)\n",
            "Requirement already satisfied: typing-extensions>=4.5 in /usr/local/lib/python3.11/site-packages (from particle>=0.16->pylhe) (4.13.2)\n",
            "Requirement already satisfied: zipp>=3.20 in /usr/local/lib/python3.11/site-packages (from importlib-metadata>=4.13.0->awkward>=1.2.0->pylhe) (3.21.0)\n",
            "Requirement already satisfied: pyhepmc in /usr/local/lib/python3.11/site-packages (2.14.0)\n",
            "Requirement already satisfied: numpy>=1.21 in /usr/local/lib/python3.11/site-packages (from pyhepmc) (2.2.5)\n",
            "Requirement already satisfied: packaging in /usr/local/lib/python3.11/site-packages (from pyhepmc) (24.2)\n"
          ]
        }
      ]
    },
    {
      "cell_type": "code",
      "source": [
        "!pip install feynml\n",
        "!pip install pyfeyn2"
      ],
      "metadata": {
        "colab": {
          "base_uri": "https://localhost:8080/"
        },
        "id": "WI2xklhJsWps",
        "outputId": "f98ab414-aad1-45d0-b5af-00b09d8bf511"
      },
      "execution_count": null,
      "outputs": [
        {
          "output_type": "stream",
          "name": "stdout",
          "text": [
            "Requirement already satisfied: feynml in /usr/local/lib/python3.11/site-packages (0.3.1)\n",
            "Requirement already satisfied: cssselect in /usr/local/lib/python3.11/site-packages (from feynml) (1.3.0)\n",
            "Requirement already satisfied: cssutils>=2.10.2 in /usr/local/lib/python3.11/site-packages (from feynml) (2.11.1)\n",
            "Requirement already satisfied: deprecated in /usr/local/lib/python3.11/site-packages (from feynml) (1.2.18)\n",
            "Requirement already satisfied: deprecation in /usr/local/lib/python3.11/site-packages (from feynml) (2.1.0)\n",
            "Requirement already satisfied: feynmodel in /usr/local/lib/python3.11/site-packages (from feynml) (0.0.11)\n",
            "Requirement already satisfied: networkx in /usr/local/lib/python3.11/site-packages (from feynml) (3.4.2)\n",
            "Requirement already satisfied: particle in /usr/local/lib/python3.11/site-packages (from feynml) (0.25.3)\n",
            "Requirement already satisfied: smpl-doc>=1.1.3 in /usr/local/lib/python3.11/site-packages (from feynml) (1.1.3)\n",
            "Requirement already satisfied: smpl-io>=1.1.2 in /usr/local/lib/python3.11/site-packages (from feynml) (1.2.0)\n",
            "Requirement already satisfied: smpl-util>=1.0.0 in /usr/local/lib/python3.11/site-packages (from feynml) (1.0.10)\n",
            "Requirement already satisfied: xsdata[cli,lxml,soap] in /usr/local/lib/python3.11/site-packages (from feynml) (25.4)\n",
            "Requirement already satisfied: more-itertools in /usr/local/lib/python3.11/site-packages (from cssutils>=2.10.2->feynml) (10.7.0)\n",
            "Requirement already satisfied: requests in /usr/local/lib/python3.11/site-packages (from smpl-io>=1.1.2->feynml) (2.32.3)\n",
            "Requirement already satisfied: numpy in /usr/local/lib/python3.11/site-packages (from smpl-util>=1.0.0->feynml) (2.2.5)\n",
            "Requirement already satisfied: wrapt<2,>=1.10 in /usr/local/lib/python3.11/site-packages (from deprecated->feynml) (1.17.2)\n",
            "Requirement already satisfied: packaging in /usr/local/lib/python3.11/site-packages (from deprecation->feynml) (24.2)\n",
            "Requirement already satisfied: ufo_mssm in /usr/local/lib/python3.11/site-packages (from feynmodel->feynml) (1.0.0)\n",
            "Requirement already satisfied: ufo_sm in /usr/local/lib/python3.11/site-packages (from feynmodel->feynml) (1.0.0)\n",
            "Requirement already satisfied: attrs>=19.2 in /usr/local/lib/python3.11/site-packages (from particle->feynml) (25.3.0)\n",
            "Requirement already satisfied: hepunits>=2.0.0 in /usr/local/lib/python3.11/site-packages (from particle->feynml) (2.3.5)\n",
            "Requirement already satisfied: typing-extensions>=4.5 in /usr/local/lib/python3.11/site-packages (from particle->feynml) (4.13.2)\n",
            "Requirement already satisfied: click>=5.0 in /usr/local/lib/python3.11/site-packages (from xsdata[cli,lxml,soap]->feynml) (8.2.0)\n",
            "Requirement already satisfied: click-default-group>=1.2 in /usr/local/lib/python3.11/site-packages (from xsdata[cli,lxml,soap]->feynml) (1.2.4)\n",
            "Requirement already satisfied: docformatter>=1.7.2 in /usr/local/lib/python3.11/site-packages (from xsdata[cli,lxml,soap]->feynml) (1.7.7)\n",
            "Requirement already satisfied: jinja2>=2.10 in /usr/local/lib/python3.11/site-packages (from xsdata[cli,lxml,soap]->feynml) (3.1.6)\n",
            "Requirement already satisfied: toposort>=1.5 in /usr/local/lib/python3.11/site-packages (from xsdata[cli,lxml,soap]->feynml) (1.10)\n",
            "Requirement already satisfied: ruff>=0.9.8 in /usr/local/lib/python3.11/site-packages (from xsdata[cli,lxml,soap]->feynml) (0.11.9)\n",
            "Requirement already satisfied: lxml>=4.5.0 in /usr/local/lib/python3.11/site-packages (from xsdata[cli,lxml,soap]->feynml) (5.4.0)\n",
            "Requirement already satisfied: charset_normalizer<4.0.0,>=3.0.0 in /usr/local/lib/python3.11/site-packages (from docformatter>=1.7.2->xsdata[cli,lxml,soap]->feynml) (3.4.1)\n",
            "Requirement already satisfied: untokenize<0.2.0,>=0.1.1 in /usr/local/lib/python3.11/site-packages (from docformatter>=1.7.2->xsdata[cli,lxml,soap]->feynml) (0.1.1)\n",
            "Requirement already satisfied: MarkupSafe>=2.0 in /usr/local/lib/python3.11/site-packages (from jinja2>=2.10->xsdata[cli,lxml,soap]->feynml) (3.0.2)\n",
            "Requirement already satisfied: idna<4,>=2.5 in /usr/local/lib/python3.11/site-packages (from requests->smpl-io>=1.1.2->feynml) (3.10)\n",
            "Requirement already satisfied: urllib3<3,>=1.21.1 in /usr/local/lib/python3.11/site-packages (from requests->smpl-io>=1.1.2->feynml) (2.3.0)\n",
            "Requirement already satisfied: certifi>=2017.4.17 in /usr/local/lib/python3.11/site-packages (from requests->smpl-io>=1.1.2->feynml) (2024.12.14)\n",
            "Requirement already satisfied: pyfeyn2 in /usr/local/lib/python3.11/site-packages (2.4.2)\n",
            "Requirement already satisfied: Wand in /usr/local/lib/python3.11/site-packages (from pyfeyn2) (0.6.13)\n",
            "Requirement already satisfied: asciidraw>=0.1.2 in /usr/local/lib/python3.11/site-packages (from pyfeyn2) (0.1.2)\n",
            "Requirement already satisfied: colorama in /usr/local/lib/python3.11/site-packages (from pyfeyn2) (0.4.6)\n",
            "Requirement already satisfied: cssselect in /usr/local/lib/python3.11/site-packages (from pyfeyn2) (1.3.0)\n",
            "Requirement already satisfied: cssutils in /usr/local/lib/python3.11/site-packages (from pyfeyn2) (2.11.1)\n",
            "Requirement already satisfied: deprecated in /usr/local/lib/python3.11/site-packages (from pyfeyn2) (1.2.18)\n",
            "Requirement already satisfied: deprecation in /usr/local/lib/python3.11/site-packages (from pyfeyn2) (2.1.0)\n",
            "Requirement already satisfied: dot2tex in /usr/local/lib/python3.11/site-packages (from pyfeyn2) (2.11.3)\n",
            "Requirement already satisfied: feynman>=2.1 in /usr/local/lib/python3.11/site-packages (from pyfeyn2) (2.1.1)\n",
            "Requirement already satisfied: feynml>=0.2.24 in /usr/local/lib/python3.11/site-packages (from feynml[interfaces]>=0.2.24->pyfeyn2) (0.3.1)\n",
            "Requirement already satisfied: graphviz in /usr/local/lib/python3.11/site-packages (from pyfeyn2) (0.20.3)\n",
            "Requirement already satisfied: iminuit in /usr/local/lib/python3.11/site-packages (from pyfeyn2) (2.31.1)\n",
            "Requirement already satisfied: ipyparallel in /usr/local/lib/python3.11/site-packages (from pyfeyn2) (9.0.1)\n",
            "Requirement already satisfied: matplotlib<4.0.0,>=1.4.0 in /usr/local/lib/python3.11/site-packages (from pyfeyn2) (3.10.3)\n",
            "Requirement already satisfied: numpy in /usr/local/lib/python3.11/site-packages (from pyfeyn2) (2.2.5)\n",
            "Requirement already satisfied: particle in /usr/local/lib/python3.11/site-packages (from pyfeyn2) (0.25.3)\n",
            "Requirement already satisfied: pydot in /usr/local/lib/python3.11/site-packages (from pyfeyn2) (4.0.0)\n",
            "Requirement already satisfied: pygments in /usr/local/lib/python3.11/site-packages (from pyfeyn2) (2.19.1)\n",
            "Requirement already satisfied: pylatex in /usr/local/lib/python3.11/site-packages (from pyfeyn2) (1.4.2)\n",
            "Requirement already satisfied: pylatexenc in /usr/local/lib/python3.11/site-packages (from pyfeyn2) (2.10)\n",
            "Requirement already satisfied: pyx<1.0.0,>=0.12 in /usr/local/lib/python3.11/site-packages (from pyfeyn2) (0.16)\n",
            "Requirement already satisfied: smpl_doc in /usr/local/lib/python3.11/site-packages (from pyfeyn2) (1.1.3)\n",
            "Requirement already satisfied: smpl_io in /usr/local/lib/python3.11/site-packages (from pyfeyn2) (1.2.0)\n",
            "Requirement already satisfied: smpl_util in /usr/local/lib/python3.11/site-packages (from pyfeyn2) (1.0.10)\n",
            "Requirement already satisfied: termcolor in /usr/local/lib/python3.11/site-packages (from pyfeyn2) (3.1.0)\n",
            "Requirement already satisfied: xsdata[cli,lxml,soap] in /usr/local/lib/python3.11/site-packages (from pyfeyn2) (25.4)\n",
            "Requirement already satisfied: feynmodel in /usr/local/lib/python3.11/site-packages (from feynml>=0.2.24->feynml[interfaces]>=0.2.24->pyfeyn2) (0.0.11)\n",
            "Requirement already satisfied: networkx in /usr/local/lib/python3.11/site-packages (from feynml>=0.2.24->feynml[interfaces]>=0.2.24->pyfeyn2) (3.4.2)\n",
            "Requirement already satisfied: more-itertools in /usr/local/lib/python3.11/site-packages (from cssutils->pyfeyn2) (10.7.0)\n",
            "Requirement already satisfied: pyhepmc in /usr/local/lib/python3.11/site-packages (from feynml[interfaces]>=0.2.24->pyfeyn2) (2.14.0)\n",
            "Requirement already satisfied: pylhe in /usr/local/lib/python3.11/site-packages (from feynml[interfaces]>=0.2.24->pyfeyn2) (0.9.1)\n",
            "Requirement already satisfied: pyqgraf>=0.0.3 in /usr/local/lib/python3.11/site-packages (from feynml[interfaces]>=0.2.24->pyfeyn2) (0.0.19)\n",
            "Requirement already satisfied: contourpy>=1.0.1 in /usr/local/lib/python3.11/site-packages (from matplotlib<4.0.0,>=1.4.0->pyfeyn2) (1.3.2)\n",
            "Requirement already satisfied: cycler>=0.10 in /usr/local/lib/python3.11/site-packages (from matplotlib<4.0.0,>=1.4.0->pyfeyn2) (0.12.1)\n",
            "Requirement already satisfied: fonttools>=4.22.0 in /usr/local/lib/python3.11/site-packages (from matplotlib<4.0.0,>=1.4.0->pyfeyn2) (4.58.0)\n",
            "Requirement already satisfied: kiwisolver>=1.3.1 in /usr/local/lib/python3.11/site-packages (from matplotlib<4.0.0,>=1.4.0->pyfeyn2) (1.4.8)\n",
            "Requirement already satisfied: packaging>=20.0 in /usr/local/lib/python3.11/site-packages (from matplotlib<4.0.0,>=1.4.0->pyfeyn2) (24.2)\n",
            "Requirement already satisfied: pillow>=8 in /usr/local/lib/python3.11/site-packages (from matplotlib<4.0.0,>=1.4.0->pyfeyn2) (11.2.1)\n",
            "Requirement already satisfied: pyparsing>=2.3.1 in /usr/local/lib/python3.11/site-packages (from matplotlib<4.0.0,>=1.4.0->pyfeyn2) (3.2.3)\n",
            "Requirement already satisfied: python-dateutil>=2.7 in /usr/local/lib/python3.11/site-packages (from matplotlib<4.0.0,>=1.4.0->pyfeyn2) (2.9.0.post0)\n",
            "Requirement already satisfied: requests in /usr/local/lib/python3.11/site-packages (from smpl_io->pyfeyn2) (2.32.3)\n",
            "Requirement already satisfied: wrapt<2,>=1.10 in /usr/local/lib/python3.11/site-packages (from deprecated->pyfeyn2) (1.17.2)\n",
            "Requirement already satisfied: decorator in /usr/local/lib/python3.11/site-packages (from ipyparallel->pyfeyn2) (5.2.1)\n",
            "Requirement already satisfied: ipykernel>=6.9.1 in /usr/local/lib/python3.11/site-packages (from ipyparallel->pyfeyn2) (6.29.5)\n",
            "Requirement already satisfied: ipython>=5 in /usr/local/lib/python3.11/site-packages (from ipyparallel->pyfeyn2) (9.2.0)\n",
            "Requirement already satisfied: jupyter-client>=7 in /usr/local/lib/python3.11/site-packages (from ipyparallel->pyfeyn2) (8.6.3)\n",
            "Requirement already satisfied: psutil in /usr/local/lib/python3.11/site-packages (from ipyparallel->pyfeyn2) (7.0.0)\n",
            "Requirement already satisfied: pyzmq>=25 in /usr/local/lib/python3.11/site-packages (from ipyparallel->pyfeyn2) (26.4.0)\n",
            "Requirement already satisfied: tornado>=6.1 in /usr/local/lib/python3.11/site-packages (from ipyparallel->pyfeyn2) (6.4.2)\n",
            "Requirement already satisfied: tqdm in /usr/local/lib/python3.11/site-packages (from ipyparallel->pyfeyn2) (4.67.1)\n",
            "Requirement already satisfied: traitlets>=5 in /usr/local/lib/python3.11/site-packages (from ipyparallel->pyfeyn2) (5.14.3)\n",
            "Requirement already satisfied: attrs>=19.2 in /usr/local/lib/python3.11/site-packages (from particle->pyfeyn2) (25.3.0)\n",
            "Requirement already satisfied: hepunits>=2.0.0 in /usr/local/lib/python3.11/site-packages (from particle->pyfeyn2) (2.3.5)\n",
            "Requirement already satisfied: typing-extensions>=4.5 in /usr/local/lib/python3.11/site-packages (from particle->pyfeyn2) (4.13.2)\n",
            "Requirement already satisfied: ordered-set in /usr/local/lib/python3.11/site-packages (from pylatex->pyfeyn2) (4.1.0)\n",
            "Requirement already satisfied: click>=5.0 in /usr/local/lib/python3.11/site-packages (from xsdata[cli,lxml,soap]->pyfeyn2) (8.2.0)\n",
            "Requirement already satisfied: click-default-group>=1.2 in /usr/local/lib/python3.11/site-packages (from xsdata[cli,lxml,soap]->pyfeyn2) (1.2.4)\n",
            "Requirement already satisfied: docformatter>=1.7.2 in /usr/local/lib/python3.11/site-packages (from xsdata[cli,lxml,soap]->pyfeyn2) (1.7.7)\n",
            "Requirement already satisfied: jinja2>=2.10 in /usr/local/lib/python3.11/site-packages (from xsdata[cli,lxml,soap]->pyfeyn2) (3.1.6)\n",
            "Requirement already satisfied: toposort>=1.5 in /usr/local/lib/python3.11/site-packages (from xsdata[cli,lxml,soap]->pyfeyn2) (1.10)\n",
            "Requirement already satisfied: ruff>=0.9.8 in /usr/local/lib/python3.11/site-packages (from xsdata[cli,lxml,soap]->pyfeyn2) (0.11.9)\n",
            "Requirement already satisfied: lxml>=4.5.0 in /usr/local/lib/python3.11/site-packages (from xsdata[cli,lxml,soap]->pyfeyn2) (5.4.0)\n",
            "Requirement already satisfied: charset_normalizer<4.0.0,>=3.0.0 in /usr/local/lib/python3.11/site-packages (from docformatter>=1.7.2->xsdata[cli,lxml,soap]->pyfeyn2) (3.4.1)\n",
            "Requirement already satisfied: untokenize<0.2.0,>=0.1.1 in /usr/local/lib/python3.11/site-packages (from docformatter>=1.7.2->xsdata[cli,lxml,soap]->pyfeyn2) (0.1.1)\n",
            "Requirement already satisfied: comm>=0.1.1 in /usr/local/lib/python3.11/site-packages (from ipykernel>=6.9.1->ipyparallel->pyfeyn2) (0.2.2)\n",
            "Requirement already satisfied: debugpy>=1.6.5 in /usr/local/lib/python3.11/site-packages (from ipykernel>=6.9.1->ipyparallel->pyfeyn2) (1.8.14)\n",
            "Requirement already satisfied: jupyter-core!=5.0.*,>=4.12 in /usr/local/lib/python3.11/site-packages (from ipykernel>=6.9.1->ipyparallel->pyfeyn2) (5.7.2)\n",
            "Requirement already satisfied: matplotlib-inline>=0.1 in /usr/local/lib/python3.11/site-packages (from ipykernel>=6.9.1->ipyparallel->pyfeyn2) (0.1.7)\n",
            "Requirement already satisfied: nest-asyncio in /usr/local/lib/python3.11/site-packages (from ipykernel>=6.9.1->ipyparallel->pyfeyn2) (1.6.0)\n",
            "Requirement already satisfied: ipython-pygments-lexers in /usr/local/lib/python3.11/site-packages (from ipython>=5->ipyparallel->pyfeyn2) (1.1.1)\n",
            "Requirement already satisfied: jedi>=0.16 in /usr/local/lib/python3.11/site-packages (from ipython>=5->ipyparallel->pyfeyn2) (0.19.2)\n",
            "Requirement already satisfied: pexpect>4.3 in /usr/local/lib/python3.11/site-packages (from ipython>=5->ipyparallel->pyfeyn2) (4.9.0)\n",
            "Requirement already satisfied: prompt_toolkit<3.1.0,>=3.0.41 in /usr/local/lib/python3.11/site-packages (from ipython>=5->ipyparallel->pyfeyn2) (3.0.51)\n",
            "Requirement already satisfied: stack_data in /usr/local/lib/python3.11/site-packages (from ipython>=5->ipyparallel->pyfeyn2) (0.6.3)\n",
            "Requirement already satisfied: MarkupSafe>=2.0 in /usr/local/lib/python3.11/site-packages (from jinja2>=2.10->xsdata[cli,lxml,soap]->pyfeyn2) (3.0.2)\n",
            "Requirement already satisfied: scikit-build in /usr/local/lib/python3.11/site-packages (from pyqgraf>=0.0.3->feynml[interfaces]>=0.2.24->pyfeyn2) (0.18.1)\n",
            "Requirement already satisfied: six>=1.5 in /usr/local/lib/python3.11/site-packages (from python-dateutil>=2.7->matplotlib<4.0.0,>=1.4.0->pyfeyn2) (1.17.0)\n",
            "Requirement already satisfied: ufo_mssm in /usr/local/lib/python3.11/site-packages (from feynmodel->feynml>=0.2.24->feynml[interfaces]>=0.2.24->pyfeyn2) (1.0.0)\n",
            "Requirement already satisfied: ufo_sm in /usr/local/lib/python3.11/site-packages (from feynmodel->feynml>=0.2.24->feynml[interfaces]>=0.2.24->pyfeyn2) (1.0.0)\n",
            "Requirement already satisfied: awkward>=1.2.0 in /usr/local/lib/python3.11/site-packages (from pylhe->feynml[interfaces]>=0.2.24->pyfeyn2) (2.8.2)\n",
            "Requirement already satisfied: vector>=0.8.1 in /usr/local/lib/python3.11/site-packages (from pylhe->feynml[interfaces]>=0.2.24->pyfeyn2) (1.6.2)\n",
            "Requirement already satisfied: idna<4,>=2.5 in /usr/local/lib/python3.11/site-packages (from requests->smpl_io->pyfeyn2) (3.10)\n",
            "Requirement already satisfied: urllib3<3,>=1.21.1 in /usr/local/lib/python3.11/site-packages (from requests->smpl_io->pyfeyn2) (2.3.0)\n",
            "Requirement already satisfied: certifi>=2017.4.17 in /usr/local/lib/python3.11/site-packages (from requests->smpl_io->pyfeyn2) (2024.12.14)\n",
            "Requirement already satisfied: awkward-cpp==45 in /usr/local/lib/python3.11/site-packages (from awkward>=1.2.0->pylhe->feynml[interfaces]>=0.2.24->pyfeyn2) (45)\n",
            "Requirement already satisfied: fsspec>=2022.11.0 in /usr/local/lib/python3.11/site-packages (from awkward>=1.2.0->pylhe->feynml[interfaces]>=0.2.24->pyfeyn2) (2025.3.2)\n",
            "Requirement already satisfied: importlib-metadata>=4.13.0 in /usr/local/lib/python3.11/site-packages (from awkward>=1.2.0->pylhe->feynml[interfaces]>=0.2.24->pyfeyn2) (8.7.0)\n",
            "Requirement already satisfied: parso<0.9.0,>=0.8.4 in /usr/local/lib/python3.11/site-packages (from jedi>=0.16->ipython>=5->ipyparallel->pyfeyn2) (0.8.4)\n",
            "Requirement already satisfied: platformdirs>=2.5 in /usr/local/lib/python3.11/site-packages (from jupyter-core!=5.0.*,>=4.12->ipykernel>=6.9.1->ipyparallel->pyfeyn2) (4.3.6)\n",
            "Requirement already satisfied: ptyprocess>=0.5 in /usr/local/lib/python3.11/site-packages (from pexpect>4.3->ipython>=5->ipyparallel->pyfeyn2) (0.7.0)\n",
            "Requirement already satisfied: wcwidth in /usr/local/lib/python3.11/site-packages (from prompt_toolkit<3.1.0,>=3.0.41->ipython>=5->ipyparallel->pyfeyn2) (0.2.13)\n",
            "Requirement already satisfied: distro in /usr/local/lib/python3.11/site-packages (from scikit-build->pyqgraf>=0.0.3->feynml[interfaces]>=0.2.24->pyfeyn2) (1.9.0)\n",
            "Requirement already satisfied: setuptools>=42.0.0 in /usr/local/lib/python3.11/site-packages (from scikit-build->pyqgraf>=0.0.3->feynml[interfaces]>=0.2.24->pyfeyn2) (65.6.3)\n",
            "Requirement already satisfied: wheel>=0.32.0 in /usr/local/lib/python3.11/site-packages (from scikit-build->pyqgraf>=0.0.3->feynml[interfaces]>=0.2.24->pyfeyn2) (0.45.1)\n",
            "Requirement already satisfied: executing>=1.2.0 in /usr/local/lib/python3.11/site-packages (from stack_data->ipython>=5->ipyparallel->pyfeyn2) (2.2.0)\n",
            "Requirement already satisfied: asttokens>=2.1.0 in /usr/local/lib/python3.11/site-packages (from stack_data->ipython>=5->ipyparallel->pyfeyn2) (3.0.0)\n",
            "Requirement already satisfied: pure-eval in /usr/local/lib/python3.11/site-packages (from stack_data->ipython>=5->ipyparallel->pyfeyn2) (0.2.3)\n",
            "Requirement already satisfied: zipp>=3.20 in /usr/local/lib/python3.11/site-packages (from importlib-metadata>=4.13.0->awkward>=1.2.0->pylhe->feynml[interfaces]>=0.2.24->pyfeyn2) (3.21.0)\n"
          ]
        }
      ]
    },
    {
      "cell_type": "code",
      "source": [
        "!apt-get update\n",
        "!apt-get install -y imagemagick\n",
        "!pip install wand"
      ],
      "metadata": {
        "colab": {
          "base_uri": "https://localhost:8080/"
        },
        "id": "Gv9cPK3ItYeT",
        "outputId": "c1385bcc-fd5f-4536-fcb6-8c57b75ab5f5"
      },
      "execution_count": null,
      "outputs": [
        {
          "output_type": "stream",
          "name": "stdout",
          "text": [
            "\r0% [Working]\r            \rHit:1 https://cloud.r-project.org/bin/linux/ubuntu jammy-cran40/ InRelease\n",
            "Hit:2 https://developer.download.nvidia.com/compute/cuda/repos/ubuntu2204/x86_64  InRelease\n",
            "Hit:3 http://security.ubuntu.com/ubuntu jammy-security InRelease\n",
            "Hit:4 http://archive.ubuntu.com/ubuntu jammy InRelease\n",
            "Hit:5 https://r2u.stat.illinois.edu/ubuntu jammy InRelease\n",
            "Hit:6 http://archive.ubuntu.com/ubuntu jammy-updates InRelease\n",
            "Hit:7 http://archive.ubuntu.com/ubuntu jammy-backports InRelease\n",
            "Hit:8 https://ppa.launchpadcontent.net/deadsnakes/ppa/ubuntu jammy InRelease\n",
            "Hit:9 https://ppa.launchpadcontent.net/graphics-drivers/ppa/ubuntu jammy InRelease\n",
            "Hit:10 https://ppa.launchpadcontent.net/ubuntugis/ppa/ubuntu jammy InRelease\n",
            "Reading package lists... Done\n",
            "W: Skipping acquire of configured file 'main/source/Sources' as repository 'https://r2u.stat.illinois.edu/ubuntu jammy InRelease' does not seem to provide it (sources.list entry misspelt?)\n",
            "Reading package lists... Done\n",
            "Building dependency tree... Done\n",
            "Reading state information... Done\n",
            "imagemagick is already the newest version (8:6.9.11.60+dfsg-1.3ubuntu0.22.04.5).\n",
            "0 upgraded, 0 newly installed, 0 to remove and 36 not upgraded.\n",
            "2 not fully installed or removed.\n",
            "After this operation, 0 B of additional disk space will be used.\n",
            "Setting up tex-common (6.17) ...\n",
            "Running mktexlsr. This may take some time... done.\n",
            "Running updmap-sys. This may take some time... done.\n",
            "Running mktexlsr /var/lib/texmf ... done.\n",
            "Building format(s) --all.\n",
            "\tThis may take some time... \n",
            "fmtutil failed. Output has been stored in\n",
            "/tmp/fmtutil.nbewFwiE\n",
            "Please include this file if you report a bug.\n",
            "\n",
            "dpkg: error processing package tex-common (--configure):\n",
            " installed tex-common package post-installation script subprocess returned error exit status 1\n",
            "dpkg: dependency problems prevent configuration of texlive-luatex:\n",
            " texlive-luatex depends on tex-common (>= 6.13); however:\n",
            "  Package tex-common is not configured yet.\n",
            "\n",
            "dpkg: error processing package texlive-luatex (--configure):\n",
            " dependency problems - leaving unconfigured\n",
            "Errors were encountered while processing:\n",
            " tex-common\n",
            " texlive-luatex\n",
            "E: Sub-process /usr/bin/dpkg returned an error code (1)\n",
            "Requirement already satisfied: wand in /usr/local/lib/python3.11/site-packages (0.6.13)\n"
          ]
        }
      ]
    },
    {
      "cell_type": "code",
      "source": [
        "import os\n",
        "os.environ[\"MAGICK_HOME\"] = \"/usr\""
      ],
      "metadata": {
        "id": "m78o_9mkzDBz"
      },
      "execution_count": null,
      "outputs": []
    },
    {
      "cell_type": "code",
      "source": [
        "# Clean up (just to be sure)\n",
        "!rm -rf HepMC3\n",
        "\n",
        "# Clone fresh\n",
        "!git clone --depth=1 https://gitlab.cern.ch/hepmc/HepMC3.git /content/HepMC3\n",
        "%cd HepMC3\n",
        "!mkdir build\n",
        "%cd build\n",
        "\n",
        "# Run cmake with ROOTIO disabled\n",
        "!cmake -Dmomentum=GEV -Dlength=MM \\\n",
        "       -DHEPMC3_ENABLE_INSTALL_EXAMPLES=ON \\\n",
        "       -DHEPMC3_ENABLE_TOOLS=ON \\\n",
        "       -DHEPMC3_ENABLE_ROOTIO=OFF \\\n",
        "       -DHEPMC3_USE_ROOT=OFF \\\n",
        "       -DCMAKE_INSTALL_PREFIX=/usr/local ..\n",
        "\n",
        "# Build and install\n",
        "!make -j4\n",
        "!make install\n",
        "%cd /content"
      ],
      "metadata": {
        "colab": {
          "base_uri": "https://localhost:8080/"
        },
        "id": "97W-2ipQ2J4p",
        "outputId": "300b0d98-bd5c-4671-9c76-d91074b1b81f"
      },
      "execution_count": null,
      "outputs": [
        {
          "output_type": "stream",
          "name": "stdout",
          "text": [
            "Cloning into '/content/HepMC3'...\n",
            "remote: Enumerating objects: 470, done.\u001b[K\n",
            "remote: Counting objects: 100% (470/470), done.\u001b[K\n",
            "remote: Compressing objects: 100% (411/411), done.\u001b[K\n",
            "remote: Total 470 (delta 96), reused 249 (delta 33), pack-reused 0 (from 0)\u001b[K\n",
            "Receiving objects: 100% (470/470), 5.51 MiB | 6.08 MiB/s, done.\n",
            "Resolving deltas: 100% (96/96), done.\n",
            "/content/HepMC3\n",
            "/content/HepMC3/build\n",
            "-- The CXX compiler identification is GNU 11.4.0\n",
            "-- Detecting CXX compiler ABI info\n",
            "-- Detecting CXX compiler ABI info - done\n",
            "-- Check for working CXX compiler: /usr/bin/c++ - skipped\n",
            "-- Detecting CXX compile features\n",
            "-- Detecting CXX compile features - done\n",
            "-- HepMC3 Build type not specified, use: Release\n",
            "-- HepMC3: CMAKE_VERSION=3.31.6\n",
            "-- HepMC3: HEPMC3_ENABLE_SEARCH         ON\n",
            "-- HepMC3: HEPMC3_ENABLE_ROOTIO         OFF\n",
            "-- HepMC3: HEPMC3_ENABLE_PROTOBUFIO     OFF\n",
            "-- HepMC3: HEPMC3_ENABLE_PYTHON         ON\n",
            "-- HepMC3: HEPMC3_PYTHON_VERSIONS       3.X\n",
            "-- HepMC3: HEPMC3_ENABLE_TEST           OFF\n",
            "-- HepMC3: HEPMC3_BUILD_DOCS            OFF\n",
            "-- HepMC3: HEPMC3_BUILD_EXAMPLES        OFF\n",
            "-- HepMC3: HEPMC3_INSTALL_INTERFACES    OFF\n",
            "-- HepMC3: HEPMC3_ROOTIO_INSTALL_LIBDIR lib\n",
            "-- Performing Test CXX_COMPILER_SUPPORTS_-Wlto-type-mismatch\n",
            "-- Performing Test CXX_COMPILER_SUPPORTS_-Wlto-type-mismatch - Success\n",
            "-- Performing Test CXX_COMPILER_SUPPORTS_-Werror=lto-type-mismatch\n",
            "-- Performing Test CXX_COMPILER_SUPPORTS_-Werror=lto-type-mismatch - Success\n",
            "-- Performing Test CXX_COMPILER_SUPPORTS_-Wno-old-style-cast\n",
            "-- Performing Test CXX_COMPILER_SUPPORTS_-Wno-old-style-cast - Success\n",
            "-- Performing Test CXX_COMPILER_SUPPORTS_-Wno-strict-aliasing\n",
            "-- Performing Test CXX_COMPILER_SUPPORTS_-Wno-strict-aliasing - Success\n",
            "-- Performing Test CXX_COMPILER_SUPPORTS_-Wno-unused-command-line-argument\n",
            "-- Performing Test CXX_COMPILER_SUPPORTS_-Wno-unused-command-line-argument - Failed\n",
            "-- Performing Test CXX_COMPILER_SUPPORTS_-Wno-gnu-zero-variadic-macro-arguments\n",
            "-- Performing Test CXX_COMPILER_SUPPORTS_-Wno-gnu-zero-variadic-macro-arguments - Failed\n",
            "-- Performing Test CXX_COMPILER_SUPPORTS_-Wno-deprecated-declarations\n",
            "-- Performing Test CXX_COMPILER_SUPPORTS_-Wno-deprecated-declarations - Success\n",
            "-- HepMC3: HEPMC3_CXX_STANDARD 11 \n",
            "-- HepMC3: CMAKE_CXX_COMPILER_ID GNU \n",
            "-- HepMC3: CMAKE_CXX_FLAGS  -Wlto-type-mismatch -Werror=lto-type-mismatch -Wno-old-style-cast -Wno-strict-aliasing -Wno-deprecated-declarations -O3 -DNDEBUG  \n",
            "-- Performing Test CXX_COMPILER_SUPPORTS_-fvisibility=hidden\n",
            "-- Performing Test CXX_COMPILER_SUPPORTS_-fvisibility=hidden - Success\n",
            "-- Performing Test CXX_COMPILER_SUPPORTS_-Wno-unused-but-set-variable\n",
            "-- Performing Test CXX_COMPILER_SUPPORTS_-Wno-unused-but-set-variable - Success\n",
            "-- Performing Test CXX_COMPILER_SUPPORTS_-Wno-unused-variable\n",
            "-- Performing Test CXX_COMPILER_SUPPORTS_-Wno-unused-variable - Success\n",
            "-- Performing Test CXX_COMPILER_SUPPORTS_-Wno-unused-value\n",
            "-- Performing Test CXX_COMPILER_SUPPORTS_-Wno-unused-value - Success\n",
            "-- Performing Test CXX_COMPILER_SUPPORTS_--diag_suppress=inline_gnu_noinline_conflict\n",
            "-- Performing Test CXX_COMPILER_SUPPORTS_--diag_suppress=inline_gnu_noinline_conflict - Failed\n",
            "-- Performing Test CXX_COMPILER_SUPPORTS_--diag_suppress=declared_but_not_referenced\n",
            "-- Performing Test CXX_COMPILER_SUPPORTS_--diag_suppress=declared_but_not_referenced - Failed\n",
            "-- Performing Test CXX_COMPILER_SUPPORTS_-Wno-delete-abstract-non-virtual-dtor\n",
            "-- Performing Test CXX_COMPILER_SUPPORTS_-Wno-delete-abstract-non-virtual-dtor - Failed\n",
            "-- HepMC3 python: Using directory A to build bindings for Python version 3.X\n",
            "-- Found Python3: /usr/local/bin/python3.11 (found suitable version \"3.11.11\", minimum required is \"3.6\") found components: Interpreter Development.Module\n",
            "-- HepMC3 python: Python verson 3.X found in /usr/local/bin/python3.11. Python bindings generation is possible.\n",
            "-- HepMC3 python: For this platforrm CMAKE_SHARED_LIBRARY_PREFIX=lib, CMAKE_SHARED_LIBRARY_SUFFIX=.so\n",
            "-- HepMC3 python: For this platforrm CMAKE_IMPORT_LIBRARY_PREFIX=, CMAKE_IMPORT_LIBRARY_SUFFIX=\n",
            "-- HepMC3 python: Tweak HEPMC3_Python_SITEARCH311 option to set the installation path for the python311 bindings.\n",
            "-- HepMC3 python: HEPMC3_Python_SITEARCH311 defaults to /usr/local/lib/python3.11/site-packages\n",
            "-- HepMC3::All contains: HepMC3::HepMC3;HepMC3::search\n",
            "-- HepMC3::All_static contains: HepMC3::HepMC3_static;HepMC3::search_static\n",
            "-- Configuring done (4.4s)\n",
            "-- Generating done (0.0s)\n",
            "\u001b[33mCMake Warning:\n",
            "  Manually-specified variables were not used by the project:\n",
            "\n",
            "    HEPMC3_ENABLE_INSTALL_EXAMPLES\n",
            "    HEPMC3_ENABLE_TOOLS\n",
            "    HEPMC3_USE_ROOT\n",
            "    length\n",
            "    momentum\n",
            "\n",
            "\u001b[0m\n",
            "-- Build files have been written to: /content/HepMC3/build\n",
            "[  1%] \u001b[32mBuilding CXX object CMakeFiles/HepMC3.dir/src/GenCrossSection.cc.o\u001b[0m\n",
            "[  2%] \u001b[32mBuilding CXX object CMakeFiles/HepMC3_static.dir/src/GenCrossSection.cc.o\u001b[0m\n",
            "[  3%] \u001b[32mBuilding CXX object search/CMakeFiles/HepMC3search_static.dir/src/Relatives.cc.o\u001b[0m\n",
            "[  3%] Built target CPythonfoo3.11.11\n",
            "[  5%] \u001b[32mBuilding CXX object CMakeFiles/HepMC3.dir/src/GenParticle.cc.o\u001b[0m\n",
            "[  6%] \u001b[32mBuilding CXX object CMakeFiles/HepMC3.dir/src/GenVertex.cc.o\u001b[0m\n",
            "[  6%] Built target CPythonfoosearch3.11.11\n",
            "[  7%] \u001b[32mBuilding CXX object search/CMakeFiles/HepMC3search_static.dir/src/Selector.cc.o\u001b[0m\n",
            "[  8%] \u001b[32mBuilding CXX object CMakeFiles/HepMC3_static.dir/src/GenParticle.cc.o\u001b[0m\n",
            "[ 10%] \u001b[32mBuilding CXX object CMakeFiles/HepMC3_static.dir/src/GenVertex.cc.o\u001b[0m\n",
            "[ 11%] \u001b[32mBuilding CXX object CMakeFiles/HepMC3.dir/src/Print.cc.o\u001b[0m\n",
            "[ 12%] \u001b[32mBuilding CXX object CMakeFiles/HepMC3.dir/src/Setup.cc.o\u001b[0m\n",
            "[ 14%] \u001b[32mBuilding CXX object CMakeFiles/HepMC3.dir/src/WriterHEPEVT.cc.o\u001b[0m\n",
            "[ 15%] \u001b[32m\u001b[1mLinking CXX static library ../outputs/lib/libHepMC3search-static.a\u001b[0m\n",
            "[ 15%] Built target HepMC3search_static\n",
            "[ 16%] \u001b[32mBuilding CXX object CMakeFiles/HepMC3.dir/src/GenEvent.cc.o\u001b[0m\n",
            "[ 17%] \u001b[32mBuilding CXX object CMakeFiles/HepMC3_static.dir/src/Print.cc.o\u001b[0m\n",
            "[ 19%] \u001b[32mBuilding CXX object CMakeFiles/HepMC3.dir/src/GenPdfInfo.cc.o\u001b[0m\n",
            "[ 20%] \u001b[32mBuilding CXX object CMakeFiles/HepMC3.dir/src/HEPEVT_Wrapper.cc.o\u001b[0m\n",
            "[ 21%] \u001b[32mBuilding CXX object CMakeFiles/HepMC3_static.dir/src/Setup.cc.o\u001b[0m\n",
            "[ 23%] \u001b[32mBuilding CXX object CMakeFiles/HepMC3_static.dir/src/WriterHEPEVT.cc.o\u001b[0m\n",
            "[ 24%] \u001b[32mBuilding CXX object CMakeFiles/HepMC3_static.dir/src/GenEvent.cc.o\u001b[0m\n",
            "[ 25%] \u001b[32mBuilding CXX object CMakeFiles/HepMC3.dir/src/ReaderAscii.cc.o\u001b[0m\n",
            "[ 26%] \u001b[32mBuilding CXX object CMakeFiles/HepMC3.dir/src/ReaderHEPEVT.cc.o\u001b[0m\n",
            "[ 28%] \u001b[32mBuilding CXX object CMakeFiles/HepMC3_static.dir/src/GenPdfInfo.cc.o\u001b[0m\n",
            "[ 29%] \u001b[32mBuilding CXX object CMakeFiles/HepMC3_static.dir/src/HEPEVT_Wrapper.cc.o\u001b[0m\n",
            "[ 30%] \u001b[32mBuilding CXX object CMakeFiles/HepMC3.dir/src/WriterAscii.cc.o\u001b[0m\n",
            "[ 32%] \u001b[32mBuilding CXX object CMakeFiles/HepMC3.dir/src/GenHeavyIon.cc.o\u001b[0m\n",
            "[ 33%] \u001b[32mBuilding CXX object CMakeFiles/HepMC3.dir/src/GenRunInfo.cc.o\u001b[0m\n",
            "[ 34%] \u001b[32mBuilding CXX object CMakeFiles/HepMC3_static.dir/src/ReaderAscii.cc.o\u001b[0m\n",
            "[ 35%] \u001b[32mBuilding CXX object CMakeFiles/HepMC3.dir/src/LHEFAttributes.cc.o\u001b[0m\n",
            "[ 37%] \u001b[32mBuilding CXX object CMakeFiles/HepMC3.dir/src/ReaderAsciiHepMC2.cc.o\u001b[0m\n",
            "[ 38%] \u001b[32mBuilding CXX object CMakeFiles/HepMC3.dir/src/ReaderLHEF.cc.o\u001b[0m\n",
            "[ 39%] \u001b[32mBuilding CXX object CMakeFiles/HepMC3_static.dir/src/ReaderHEPEVT.cc.o\u001b[0m\n",
            "[ 41%] \u001b[32mBuilding CXX object CMakeFiles/HepMC3.dir/src/WriterAsciiHepMC2.cc.o\u001b[0m\n",
            "[ 42%] \u001b[32mBuilding CXX object CMakeFiles/HepMC3_static.dir/src/WriterAscii.cc.o\u001b[0m\n",
            "[ 43%] \u001b[32mBuilding CXX object CMakeFiles/HepMC3.dir/src/ReaderPlugin.cc.o\u001b[0m\n",
            "[ 44%] \u001b[32mBuilding CXX object CMakeFiles/HepMC3.dir/src/WriterPlugin.cc.o\u001b[0m\n",
            "[ 46%] \u001b[32mBuilding CXX object CMakeFiles/HepMC3.dir/src/ReaderFactory.cc.o\u001b[0m\n",
            "[ 47%] \u001b[32mBuilding CXX object CMakeFiles/HepMC3_static.dir/src/GenHeavyIon.cc.o\u001b[0m\n",
            "[ 48%] \u001b[32mBuilding CXX object CMakeFiles/HepMC3_static.dir/src/GenRunInfo.cc.o\u001b[0m\n",
            "[ 50%] \u001b[32mBuilding CXX object CMakeFiles/HepMC3_static.dir/src/LHEFAttributes.cc.o\u001b[0m\n",
            "[ 51%] \u001b[32mBuilding CXX object CMakeFiles/HepMC3_static.dir/src/ReaderAsciiHepMC2.cc.o\u001b[0m\n",
            "[ 52%] \u001b[32m\u001b[1mLinking CXX shared library outputs/lib/libHepMC3.so\u001b[0m\n",
            "[ 52%] Built target HepMC3\n",
            "[ 53%] \u001b[32mBuilding CXX object search/CMakeFiles/HepMC3search.dir/src/Relatives.cc.o\u001b[0m\n",
            "[ 55%] \u001b[32mBuilding CXX object CMakeFiles/HepMC3_static.dir/src/ReaderLHEF.cc.o\u001b[0m\n",
            "[ 56%] \u001b[32mBuilding CXX object search/CMakeFiles/HepMC3search.dir/src/Selector.cc.o\u001b[0m\n",
            "[ 57%] \u001b[32mBuilding CXX object CMakeFiles/HepMC3_static.dir/src/WriterAsciiHepMC2.cc.o\u001b[0m\n",
            "[ 58%] \u001b[32m\u001b[1mLinking CXX shared library ../outputs/lib/libHepMC3search.so\u001b[0m\n",
            "[ 58%] Built target HepMC3search\n",
            "[ 60%] \u001b[32mBuilding CXX object python/A/CMakeFiles/CPythonpyHepMC33.11.11.dir/__/src/pyHepMC3.cpp.o\u001b[0m\n",
            "[ 61%] \u001b[32mBuilding CXX object python/A/CMakeFiles/CPythonpyHepMC3search3.11.11.dir/__/src/pyHepMC3search.cpp.o\u001b[0m\n",
            "[ 62%] \u001b[32mBuilding CXX object python/A/CMakeFiles/CPythonpyHepMC33.11.11.dir/__/src/pyHepMC3_0.cpp.o\u001b[0m\n",
            "[ 64%] \u001b[32mBuilding CXX object CMakeFiles/HepMC3_static.dir/src/ReaderPlugin.cc.o\u001b[0m\n",
            "[ 65%] \u001b[32mBuilding CXX object CMakeFiles/HepMC3_static.dir/src/WriterPlugin.cc.o\u001b[0m\n",
            "[ 66%] \u001b[32mBuilding CXX object python/A/CMakeFiles/CPythonpyHepMC3search3.11.11.dir/__/src/pyHepMC3search_0.cpp.o\u001b[0m\n",
            "[ 67%] \u001b[32mBuilding CXX object CMakeFiles/HepMC3_static.dir/src/ReaderFactory.cc.o\u001b[0m\n",
            "[ 69%] \u001b[32mBuilding CXX object python/A/CMakeFiles/CPythonpyHepMC3search3.11.11.dir/__/src/pyHepMC3search_1.cpp.o\u001b[0m\n",
            "[ 70%] \u001b[32m\u001b[1mLinking CXX static library outputs/lib/libHepMC3-static.a\u001b[0m\n",
            "[ 70%] Built target HepMC3_static\n",
            "[ 71%] \u001b[32mBuilding CXX object python/A/CMakeFiles/CPythonpyHepMC3search3.11.11.dir/__/src/searchbinders.cpp.o\u001b[0m\n",
            "[ 73%] \u001b[32mBuilding CXX object python/A/CMakeFiles/CPythonpyHepMC33.11.11.dir/__/src/pyHepMC3_1.cpp.o\u001b[0m\n",
            "[ 74%] \u001b[32mBuilding CXX object python/A/CMakeFiles/CPythonpyHepMC33.11.11.dir/__/src/pyHepMC3_2.cpp.o\u001b[0m\n",
            "[ 75%] \u001b[32mBuilding CXX object python/A/CMakeFiles/CPythonpyHepMC33.11.11.dir/__/src/pyHepMC3_3.cpp.o\u001b[0m\n",
            "[ 76%] \u001b[32m\u001b[1mLinking CXX shared module 3.11.11/pyHepMC3/search/pyHepMC3search.so\u001b[0m\n",
            "/usr/bin/c++ -fPIC  -Wlto-type-mismatch -Werror=lto-type-mismatch -Wno-old-style-cast -Wno-strict-aliasing -Wno-deprecated-declarations -Wlto-type-mismatch -Werror=lto-type-mismatch -Wno-old-style-cast -Wno-strict-aliasing -Wno-deprecated-declarations -fvisibility=hidden -Wno-unused-but-set-variable -Wno-unused-variable -Wno-unused-value -Wno-old-style-cast -O3 -DNDEBUG -shared  -o 3.11.11/pyHepMC3/search/pyHepMC3search.so CMakeFiles/CPythonpyHepMC3search3.11.11.dir/__/src/pyHepMC3search.cpp.o CMakeFiles/CPythonpyHepMC3search3.11.11.dir/__/src/pyHepMC3search_0.cpp.o CMakeFiles/CPythonpyHepMC3search3.11.11.dir/__/src/pyHepMC3search_1.cpp.o CMakeFiles/CPythonpyHepMC3search3.11.11.dir/__/src/searchbinders.cpp.o  -Wl,-rpath,/content/HepMC3/build/outputs/lib: ../../outputs/lib/libHepMC3search.so.5 ../../outputs/lib/libHepMC3.so.4\n",
            "[ 76%] Built target CPythonpyHepMC3search3.11.11\n",
            "[ 78%] \u001b[32mBuilding CXX object python/A/CMakeFiles/CPythonpyHepMC33.11.11.dir/__/src/pyHepMC3_4.cpp.o\u001b[0m\n",
            "[ 79%] \u001b[32mBuilding CXX object python/A/CMakeFiles/CPythonpyHepMC33.11.11.dir/__/src/pyHepMC3_5.cpp.o\u001b[0m\n",
            "[ 80%] \u001b[32mBuilding CXX object python/A/CMakeFiles/CPythonpyHepMC33.11.11.dir/__/src/pyHepMC3_6.cpp.o\u001b[0m\n",
            "[ 82%] \u001b[32mBuilding CXX object python/A/CMakeFiles/CPythonpyHepMC33.11.11.dir/__/src/pyHepMC3_7.cpp.o\u001b[0m\n",
            "[ 83%] \u001b[32mBuilding CXX object python/A/CMakeFiles/CPythonpyHepMC33.11.11.dir/__/src/pyHepMC3_8.cpp.o\u001b[0m\n",
            "[ 84%] \u001b[32mBuilding CXX object python/A/CMakeFiles/CPythonpyHepMC33.11.11.dir/__/src/pyHepMC3_9.cpp.o\u001b[0m\n",
            "[ 85%] \u001b[32mBuilding CXX object python/A/CMakeFiles/CPythonpyHepMC33.11.11.dir/__/src/pyHepMC3_10.cpp.o\u001b[0m\n",
            "[ 87%] \u001b[32mBuilding CXX object python/A/CMakeFiles/CPythonpyHepMC33.11.11.dir/__/src/pyHepMC3_11.cpp.o\u001b[0m\n",
            "[ 88%] \u001b[32mBuilding CXX object python/A/CMakeFiles/CPythonpyHepMC33.11.11.dir/__/src/pyHepMC3_12.cpp.o\u001b[0m\n",
            "[ 89%] \u001b[32mBuilding CXX object python/A/CMakeFiles/CPythonpyHepMC33.11.11.dir/__/src/pyHepMC3_13.cpp.o\u001b[0m\n",
            "[ 91%] \u001b[32mBuilding CXX object python/A/CMakeFiles/CPythonpyHepMC33.11.11.dir/__/src/pyHepMC3_14.cpp.o\u001b[0m\n",
            "[ 92%] \u001b[32mBuilding CXX object python/A/CMakeFiles/CPythonpyHepMC33.11.11.dir/__/src/pyHepMC3_15.cpp.o\u001b[0m\n",
            "[ 93%] \u001b[32mBuilding CXX object python/A/CMakeFiles/CPythonpyHepMC33.11.11.dir/__/src/pyHepMC3_16.cpp.o\u001b[0m\n",
            "[ 94%] \u001b[32mBuilding CXX object python/A/CMakeFiles/CPythonpyHepMC33.11.11.dir/__/src/pyHepMC3_17.cpp.o\u001b[0m\n",
            "[ 96%] \u001b[32mBuilding CXX object python/A/CMakeFiles/CPythonpyHepMC33.11.11.dir/__/src/pyHepMC3_18.cpp.o\u001b[0m\n",
            "[ 97%] \u001b[32mBuilding CXX object python/A/CMakeFiles/CPythonpyHepMC33.11.11.dir/__/src/binders.cpp.o\u001b[0m\n",
            "[ 98%] \u001b[32mBuilding CXX object python/A/CMakeFiles/CPythonpyHepMC33.11.11.dir/__/src/ReaderuprootTree.cc.o\u001b[0m\n",
            "[100%] \u001b[32m\u001b[1mLinking CXX shared module 3.11.11/pyHepMC3/pyHepMC3.so\u001b[0m\n",
            "/usr/bin/c++ -fPIC  -Wlto-type-mismatch -Werror=lto-type-mismatch -Wno-old-style-cast -Wno-strict-aliasing -Wno-deprecated-declarations -Wlto-type-mismatch -Werror=lto-type-mismatch -Wno-old-style-cast -Wno-strict-aliasing -Wno-deprecated-declarations -fvisibility=hidden -Wno-unused-but-set-variable -Wno-unused-variable -Wno-unused-value -Wno-old-style-cast -O3 -DNDEBUG -shared  -o 3.11.11/pyHepMC3/pyHepMC3.so CMakeFiles/CPythonpyHepMC33.11.11.dir/__/src/pyHepMC3.cpp.o CMakeFiles/CPythonpyHepMC33.11.11.dir/__/src/pyHepMC3_0.cpp.o CMakeFiles/CPythonpyHepMC33.11.11.dir/__/src/pyHepMC3_1.cpp.o CMakeFiles/CPythonpyHepMC33.11.11.dir/__/src/pyHepMC3_2.cpp.o CMakeFiles/CPythonpyHepMC33.11.11.dir/__/src/pyHepMC3_3.cpp.o CMakeFiles/CPythonpyHepMC33.11.11.dir/__/src/pyHepMC3_4.cpp.o CMakeFiles/CPythonpyHepMC33.11.11.dir/__/src/pyHepMC3_5.cpp.o CMakeFiles/CPythonpyHepMC33.11.11.dir/__/src/pyHepMC3_6.cpp.o CMakeFiles/CPythonpyHepMC33.11.11.dir/__/src/pyHepMC3_7.cpp.o CMakeFiles/CPythonpyHepMC33.11.11.dir/__/src/pyHepMC3_8.cpp.o CMakeFiles/CPythonpyHepMC33.11.11.dir/__/src/pyHepMC3_9.cpp.o CMakeFiles/CPythonpyHepMC33.11.11.dir/__/src/pyHepMC3_10.cpp.o CMakeFiles/CPythonpyHepMC33.11.11.dir/__/src/pyHepMC3_11.cpp.o CMakeFiles/CPythonpyHepMC33.11.11.dir/__/src/pyHepMC3_12.cpp.o CMakeFiles/CPythonpyHepMC33.11.11.dir/__/src/pyHepMC3_13.cpp.o CMakeFiles/CPythonpyHepMC33.11.11.dir/__/src/pyHepMC3_14.cpp.o CMakeFiles/CPythonpyHepMC33.11.11.dir/__/src/pyHepMC3_15.cpp.o CMakeFiles/CPythonpyHepMC33.11.11.dir/__/src/pyHepMC3_16.cpp.o CMakeFiles/CPythonpyHepMC33.11.11.dir/__/src/pyHepMC3_17.cpp.o CMakeFiles/CPythonpyHepMC33.11.11.dir/__/src/pyHepMC3_18.cpp.o CMakeFiles/CPythonpyHepMC33.11.11.dir/__/src/binders.cpp.o CMakeFiles/CPythonpyHepMC33.11.11.dir/__/src/ReaderuprootTree.cc.o  -Wl,-rpath,/content/HepMC3/build/outputs/lib: ../../outputs/lib/libHepMC3.so.4\n",
            "[100%] Built target CPythonpyHepMC33.11.11\n",
            "[ 28%] Built target HepMC3\n",
            "[ 56%] Built target HepMC3_static\n",
            "[ 60%] Built target HepMC3search\n",
            "[ 64%] Built target HepMC3search_static\n",
            "[ 93%] Built target CPythonpyHepMC33.11.11\n",
            "[ 93%] Built target CPythonfoo3.11.11\n",
            "[100%] Built target CPythonpyHepMC3search3.11.11\n",
            "[100%] Built target CPythonfoosearch3.11.11\n",
            "\u001b[36mInstall the project...\u001b[0m\n",
            "-- Install configuration: \"RELEASE\"\n",
            "-- Installing: /usr/local/lib/libHepMC3.so.4\n",
            "-- Set non-toolchain portion of runtime path of \"/usr/local/lib/libHepMC3.so.4\" to \"/usr/local/lib\"\n",
            "-- Up-to-date: /usr/local/lib/libHepMC3.so\n",
            "-- Installing: /usr/local/lib/libHepMC3-static.a\n",
            "-- Up-to-date: /usr/local/include\n",
            "-- Up-to-date: /usr/local/include/HepMC3\n",
            "-- Installing: /usr/local/include/HepMC3/GenVertex.h\n",
            "-- Installing: /usr/local/include/HepMC3/HEPEVT_Helpers.h\n",
            "-- Installing: /usr/local/include/HepMC3/HEPEVT_Wrapper_Runtime_Static.h\n",
            "-- Installing: /usr/local/include/HepMC3/HEPEVT_Wrapper_Runtime.h\n",
            "-- Installing: /usr/local/include/HepMC3/ReaderGZ.h\n",
            "-- Installing: /usr/local/include/HepMC3/Print.h\n",
            "-- Installing: /usr/local/include/HepMC3/GenParticle_fwd.h\n",
            "-- Installing: /usr/local/include/HepMC3/ReaderPlugin.h\n",
            "-- Installing: /usr/local/include/HepMC3/Attribute.h\n",
            "-- Installing: /usr/local/include/HepMC3/CompressedIO.h\n",
            "-- Installing: /usr/local/include/HepMC3/LHEFAttributes.h\n",
            "-- Installing: /usr/local/include/HepMC3/HEPEVT_Wrapper.h\n",
            "-- Installing: /usr/local/include/HepMC3/ReaderHEPEVT.h\n",
            "-- Installing: /usr/local/include/HepMC3/WriterHEPEVT.h\n",
            "-- Installing: /usr/local/include/HepMC3/WriterAscii.h\n",
            "-- Installing: /usr/local/include/HepMC3/ReaderAsciiHepMC2.h\n",
            "-- Installing: /usr/local/include/HepMC3/PrintStreams.h\n",
            "-- Installing: /usr/local/include/HepMC3/Errors.h\n",
            "-- Installing: /usr/local/include/HepMC3/WriterAsciiHepMC2.h\n",
            "-- Installing: /usr/local/include/HepMC3/ReaderAscii.h\n",
            "-- Up-to-date: /usr/local/include/HepMC3/Data\n",
            "-- Installing: /usr/local/include/HepMC3/Data/GenParticleData.h\n",
            "-- Installing: /usr/local/include/HepMC3/Data/GenVertexData.h\n",
            "-- Installing: /usr/local/include/HepMC3/Data/GenEventData.h\n",
            "-- Installing: /usr/local/include/HepMC3/Data/GenRunInfoData.h\n",
            "-- Installing: /usr/local/include/HepMC3/ReaderFactory.h\n",
            "-- Up-to-date: /usr/local/include/HepMC3/bxzstr\n",
            "-- Installing: /usr/local/include/HepMC3/bxzstr/stream_wrapper.hpp\n",
            "-- Installing: /usr/local/include/HepMC3/bxzstr/z_stream_wrapper.hpp\n",
            "-- Installing: /usr/local/include/HepMC3/bxzstr/config.hpp\n",
            "-- Installing: /usr/local/include/HepMC3/bxzstr/compression_types.hpp\n",
            "-- Installing: /usr/local/include/HepMC3/bxzstr/zstd_stream_wrapper.hpp\n",
            "-- Installing: /usr/local/include/HepMC3/bxzstr/bz_stream_wrapper.hpp\n",
            "-- Installing: /usr/local/include/HepMC3/bxzstr/lzma_stream_wrapper.hpp\n",
            "-- Installing: /usr/local/include/HepMC3/bxzstr/bxzstr.hpp\n",
            "-- Installing: /usr/local/include/HepMC3/bxzstr/LICENSE\n",
            "-- Installing: /usr/local/include/HepMC3/bxzstr/strict_fstream.hpp\n",
            "-- Installing: /usr/local/include/HepMC3/GenCrossSection.h\n",
            "-- Installing: /usr/local/include/HepMC3/Writer.h\n",
            "-- Installing: /usr/local/include/HepMC3/ReaderFactory_fwd.h\n",
            "-- Installing: /usr/local/include/HepMC3/GenHeavyIon_fwd.h\n",
            "-- Installing: /usr/local/include/HepMC3/WriterPlugin.h\n",
            "-- Installing: /usr/local/include/HepMC3/Version.h\n",
            "-- Installing: /usr/local/include/HepMC3/GenCrossSection_fwd.h\n",
            "-- Installing: /usr/local/include/HepMC3/LHEF.h\n",
            "-- Installing: /usr/local/include/HepMC3/Reader.h\n",
            "-- Installing: /usr/local/include/HepMC3/GenEvent.h\n",
            "-- Installing: /usr/local/include/HepMC3/GenHeavyIon.h\n",
            "-- Installing: /usr/local/include/HepMC3/WriterGZ.h\n",
            "-- Installing: /usr/local/include/HepMC3/Setup.h\n",
            "-- Installing: /usr/local/include/HepMC3/ReaderMT.h\n",
            "-- Installing: /usr/local/include/HepMC3/GenParticle.h\n",
            "-- Installing: /usr/local/include/HepMC3/GenPdfInfo.h\n",
            "-- Installing: /usr/local/include/HepMC3/HEPEVT_Wrapper_Template.h\n",
            "-- Installing: /usr/local/include/HepMC3/GenPdfInfo_fwd.h\n",
            "-- Installing: /usr/local/include/HepMC3/AssociatedParticle.h\n",
            "-- Installing: /usr/local/include/HepMC3/GenVertex_fwd.h\n",
            "-- Installing: /usr/local/include/HepMC3/GenRunInfo.h\n",
            "-- Installing: /usr/local/include/HepMC3/Units.h\n",
            "-- Installing: /usr/local/include/HepMC3/HepMC3.h\n",
            "-- Installing: /usr/local/include/HepMC3/ReaderLHEF.h\n",
            "-- Installing: /usr/local/include/HepMC3/FourVector.h\n",
            "-- Up-to-date: /usr/local/share/doc/HepMC3/examples\n",
            "-- Up-to-date: /usr/local/share/doc/HepMC3/examples/SearchExample\n",
            "-- Up-to-date: /usr/local/share/doc/HepMC3/examples/SearchExample/src\n",
            "-- Installing: /usr/local/share/doc/HepMC3/examples/SearchExample/src/search_example.cc\n",
            "-- Installing: /usr/local/share/doc/HepMC3/examples/SearchExample/CMakeLists.txt\n",
            "-- Up-to-date: /usr/local/share/doc/HepMC3/examples/RootIOExample2\n",
            "-- Installing: /usr/local/share/doc/HepMC3/examples/RootIOExample2/class_example_read.cc\n",
            "-- Up-to-date: /usr/local/share/doc/HepMC3/examples/RootIOExample2/include\n",
            "-- Installing: /usr/local/share/doc/HepMC3/examples/RootIOExample2/include/MyRunClass.h\n",
            "-- Installing: /usr/local/share/doc/HepMC3/examples/RootIOExample2/include/myclass_Classes.h\n",
            "-- Installing: /usr/local/share/doc/HepMC3/examples/RootIOExample2/include/LinkDef.h\n",
            "-- Installing: /usr/local/share/doc/HepMC3/examples/RootIOExample2/include/MyClass.h\n",
            "-- Up-to-date: /usr/local/share/doc/HepMC3/examples/RootIOExample2/src\n",
            "-- Installing: /usr/local/share/doc/HepMC3/examples/RootIOExample2/src/MyRunClass.cc\n",
            "-- Installing: /usr/local/share/doc/HepMC3/examples/RootIOExample2/src/MyClass.cc\n",
            "-- Installing: /usr/local/share/doc/HepMC3/examples/RootIOExample2/class_example_write.cc\n",
            "-- Installing: /usr/local/share/doc/HepMC3/examples/RootIOExample2/example.hepmc3\n",
            "-- Installing: /usr/local/share/doc/HepMC3/examples/RootIOExample2/CMakeLists.txt\n",
            "-- Installing: /usr/local/share/doc/HepMC3/examples/RootIOExample2/class_example_env.sh.in\n",
            "-- Up-to-date: /usr/local/share/doc/HepMC3/examples/ConvertExample\n",
            "-- Installing: /usr/local/share/doc/HepMC3/examples/ConvertExample/convert_example_env.sh.in\n",
            "-- Up-to-date: /usr/local/share/doc/HepMC3/examples/ConvertExample/include\n",
            "-- Installing: /usr/local/share/doc/HepMC3/examples/ConvertExample/include/AnalysisExample.h\n",
            "-- Installing: /usr/local/share/doc/HepMC3/examples/ConvertExample/include/WriterDOT.h\n",
            "-- Installing: /usr/local/share/doc/HepMC3/examples/ConvertExample/include/WriterHEPEVTZEUS.h\n",
            "-- Installing: /usr/local/share/doc/HepMC3/examples/ConvertExample/include/WriterRootTreeOPAL.h\n",
            "-- Up-to-date: /usr/local/share/doc/HepMC3/examples/ConvertExample/src\n",
            "-- Installing: /usr/local/share/doc/HepMC3/examples/ConvertExample/src/WriterRootTreeOPAL.cc\n",
            "-- Installing: /usr/local/share/doc/HepMC3/examples/ConvertExample/src/AnalysisExample.cc\n",
            "-- Installing: /usr/local/share/doc/HepMC3/examples/ConvertExample/src/WriterHEPEVTZEUS.cc\n",
            "-- Installing: /usr/local/share/doc/HepMC3/examples/ConvertExample/src/WriterDOT.cc\n",
            "-- Installing: /usr/local/share/doc/HepMC3/examples/ConvertExample/cmdline.h\n",
            "-- Installing: /usr/local/share/doc/HepMC3/examples/ConvertExample/convert_example.cc\n",
            "-- Installing: /usr/local/share/doc/HepMC3/examples/ConvertExample/cmdline.ggo\n",
            "-- Installing: /usr/local/share/doc/HepMC3/examples/ConvertExample/CMakeLists.txt\n",
            "-- Installing: /usr/local/share/doc/HepMC3/examples/ConvertExample/cmdline.c\n",
            "-- Up-to-date: /usr/local/share/doc/HepMC3/examples/Pythia6Example\n",
            "-- Installing: /usr/local/share/doc/HepMC3/examples/Pythia6Example/main63.f\n",
            "-- Installing: /usr/local/share/doc/HepMC3/examples/Pythia6Example/CMakeLists.txt\n",
            "-- Installing: /usr/local/share/doc/HepMC3/examples/Pythia6Example/pythia-6.4.28.f\n",
            "-- Up-to-date: /usr/local/share/doc/HepMC3/examples/Pythia8Example\n",
            "-- Installing: /usr/local/share/doc/HepMC3/examples/Pythia8Example/pythia8_example_env.sh.in\n",
            "-- Installing: /usr/local/share/doc/HepMC3/examples/Pythia8Example/pythia8_example.cc\n",
            "-- Up-to-date: /usr/local/share/doc/HepMC3/examples/Pythia8Example/cmake\n",
            "-- Up-to-date: /usr/local/share/doc/HepMC3/examples/Pythia8Example/cmake/Modules\n",
            "-- Installing: /usr/local/share/doc/HepMC3/examples/Pythia8Example/cmake/Modules/FindPythia8.cmake\n",
            "-- Installing: /usr/local/share/doc/HepMC3/examples/Pythia8Example/pythia8_pp_minbias.conf\n",
            "-- Installing: /usr/local/share/doc/HepMC3/examples/Pythia8Example/CMakeLists.txt\n",
            "-- Installing: /usr/local/share/doc/HepMC3/examples/Pythia8Example/pythia8_ee_to_Z_to_tautau.conf\n",
            "-- Up-to-date: /usr/local/share/doc/HepMC3/examples/BasicExamples\n",
            "-- Installing: /usr/local/share/doc/HepMC3/examples/BasicExamples/basic_tree.cc\n",
            "-- Installing: /usr/local/share/doc/HepMC3/examples/BasicExamples/hepevt_wrapper_example_fortran.f\n",
            "-- Installing: /usr/local/share/doc/HepMC3/examples/BasicExamples/hepevt_wrapper_example_main.cc\n",
            "-- Installing: /usr/local/share/doc/HepMC3/examples/BasicExamples/HepMC3_fileIO_example.cc\n",
            "-- Installing: /usr/local/share/doc/HepMC3/examples/BasicExamples/HepMC2_reader_example.cc\n",
            "-- Installing: /usr/local/share/doc/HepMC3/examples/BasicExamples/CMakeLists.txt\n",
            "-- Up-to-date: /usr/local/share/doc/HepMC3/examples/RootIOExample\n",
            "-- Installing: /usr/local/share/doc/HepMC3/examples/RootIOExample/rootIO_example_read.cc\n",
            "-- Installing: /usr/local/share/doc/HepMC3/examples/RootIOExample/rootIO_example_write.cc\n",
            "-- Installing: /usr/local/share/doc/HepMC3/examples/RootIOExample/rootIO_example_env.sh.in\n",
            "-- Installing: /usr/local/share/doc/HepMC3/examples/RootIOExample/example.hepmc3\n",
            "-- Installing: /usr/local/share/doc/HepMC3/examples/RootIOExample/CMakeLists.txt\n",
            "-- Up-to-date: /usr/local/share/doc/HepMC3/examples/RootIOExample3\n",
            "-- Installing: /usr/local/share/doc/HepMC3/examples/RootIOExample3/rootIOTree_example_read.cc\n",
            "-- Installing: /usr/local/share/doc/HepMC3/examples/RootIOExample3/rootIOTree_example_write.cc\n",
            "-- Installing: /usr/local/share/doc/HepMC3/examples/RootIOExample3/rootIOTree_example_env.sh.in\n",
            "-- Installing: /usr/local/share/doc/HepMC3/examples/RootIOExample3/CMakeLists.txt\n",
            "-- Up-to-date: /usr/local/share/doc/HepMC3/examples/ViewerExample\n",
            "-- Up-to-date: /usr/local/share/doc/HepMC3/examples/ViewerExample/include\n",
            "-- Installing: /usr/local/share/doc/HepMC3/examples/ViewerExample/include/HepMC3ViewerFrame.h\n",
            "-- Installing: /usr/local/share/doc/HepMC3/examples/ViewerExample/include/LinkDef.h\n",
            "-- Up-to-date: /usr/local/share/doc/HepMC3/examples/ViewerExample/src\n",
            "-- Installing: /usr/local/share/doc/HepMC3/examples/ViewerExample/src/HepMC3ViewerFrame.cc\n",
            "-- Installing: /usr/local/share/doc/HepMC3/examples/ViewerExample/src/main.cc\n",
            "-- Up-to-date: /usr/local/share/doc/HepMC3/examples/ViewerExample/cmake\n",
            "-- Up-to-date: /usr/local/share/doc/HepMC3/examples/ViewerExample/cmake/Modules\n",
            "-- Installing: /usr/local/share/doc/HepMC3/examples/ViewerExample/cmake/Modules/FindGraphviz.cmake\n",
            "-- Installing: /usr/local/share/doc/HepMC3/examples/ViewerExample/CMakeLists.txt\n",
            "-- Installing: /usr/local/share/doc/HepMC3/examples/CMakeLists.txt\n",
            "-- Up-to-date: /usr/local/share/doc/HepMC3/examples/LHEFExample\n",
            "-- Installing: /usr/local/share/doc/HepMC3/examples/LHEFExample/LHEF_example_2_cmp.plhe\n",
            "-- Installing: /usr/local/share/doc/HepMC3/examples/LHEFExample/LHEF_example_cmp.lhe\n",
            "-- Installing: /usr/local/share/doc/HepMC3/examples/LHEFExample/LHEF_example_1_out.plhe\n",
            "-- Installing: /usr/local/share/doc/HepMC3/examples/LHEFExample/LHEF_example_1_cmp.plhe\n",
            "-- Installing: /usr/local/share/doc/HepMC3/examples/LHEFExample/LHEF_example_2_out.plhe\n",
            "-- Installing: /usr/local/share/doc/HepMC3/examples/LHEFExample/LHEF_example_1.plhe\n",
            "-- Installing: /usr/local/share/doc/HepMC3/examples/LHEFExample/LHEF_example_cat.cc\n",
            "-- Installing: /usr/local/share/doc/HepMC3/examples/LHEFExample/LHEF_example_2.plhe\n",
            "-- Installing: /usr/local/share/doc/HepMC3/examples/LHEFExample/CMakeLists.txt\n",
            "-- Installing: /usr/local/share/doc/HepMC3/examples/LHEFExample/LHEF_example.lhe\n",
            "-- Installing: /usr/local/share/doc/HepMC3/examples/LHEFExample/LHEF_example_env.sh.in\n",
            "-- Installing: /usr/local/share/HepMC3/cmake/HepMC3Config.cmake\n",
            "-- Installing: /usr/local/share/HepMC3/cmake/HepMC3Config-version.cmake\n",
            "-- Installing: /usr/local/bin/HepMC3-config\n",
            "-- Installing: /usr/local/share/HepMC3/cmake/HepMC3Targets.cmake\n",
            "-- Installing: /usr/local/share/HepMC3/cmake/HepMC3Targets-release.cmake\n",
            "-- Installing: /usr/local/lib/libHepMC3search.so.5\n",
            "-- Set non-toolchain portion of runtime path of \"/usr/local/lib/libHepMC3search.so.5\" to \"/usr/local/lib\"\n",
            "-- Up-to-date: /usr/local/lib/libHepMC3search.so\n",
            "-- Installing: /usr/local/lib/libHepMC3search-static.a\n",
            "-- Up-to-date: /usr/local/lib\n",
            "-- Up-to-date: /usr/local/include/HepMC3\n",
            "-- Installing: /usr/local/include/HepMC3/FilterAttribute.h\n",
            "-- Installing: /usr/local/include/HepMC3/Selector.h\n",
            "-- Installing: /usr/local/include/HepMC3/Relatives.h\n",
            "-- Installing: /usr/local/include/HepMC3/AttributeFeature.h\n",
            "-- Installing: /usr/local/include/HepMC3/Feature.h\n",
            "-- Installing: /usr/local/include/HepMC3/Filter.h\n",
            "-- Installing: /usr/local/share/HepMC3/cmake/HepMC3searchTargets.cmake\n",
            "-- Installing: /usr/local/share/HepMC3/cmake/HepMC3searchTargets-release.cmake\n",
            "-- Installing: /usr/local/lib/python3.11/site-packages/pyHepMC3/pyHepMC3.so\n",
            "-- Set non-toolchain portion of runtime path of \"/usr/local/lib/python3.11/site-packages/pyHepMC3/pyHepMC3.so\" to \"/usr/local/lib\"\n",
            "-- Installing: /usr/local/lib/python3.11/site-packages/pyHepMC3/__init__.py\n",
            "-- Installing: /usr/local/lib/python3.11/site-packages/pyHepMC3-3.3.1-py3.11.egg-info\n",
            "-- Installing: /usr/local/lib/python3.11/site-packages/pyHepMC3/search/pyHepMC3search.so\n",
            "-- Set non-toolchain portion of runtime path of \"/usr/local/lib/python3.11/site-packages/pyHepMC3/search/pyHepMC3search.so\" to \"/usr/local/lib\"\n",
            "-- Installing: /usr/local/lib/python3.11/site-packages/pyHepMC3/search/__init__.py\n",
            "-- Installing: /usr/local/lib/python3.11/site-packages/pyHepMC3.search-3.3.1-py3.11.egg-info\n",
            "/content\n"
          ]
        }
      ]
    },
    {
      "cell_type": "code",
      "source": [
        "import pylhe\n",
        "import pyhepmc\n",
        "\n",
        "\n",
        "from feynml.interface.lhe import lhe_to_feynml\n",
        "from feynml.interface.hepmc import hepmc_event_to_feynman\n",
        "from pyfeyn2.render.latex.tikzfeynman import TikzFeynmanRender\n",
        "from pyfeyn2.render.pyx.pyxrender import PyxRender\n",
        "from pyfeyn2.feynmandiagram import FeynML\n",
        "from pyfeyn2.auto.bend import auto_bend\n",
        "from pyfeyn2.auto.label import auto_label\n",
        "from pyfeyn2.auto.position import feynman_adjust_points,remove_unnecessary_vertices\n",
        "from IPython.display import SVG"
      ],
      "metadata": {
        "id": "0-nDH3GUta7b"
      },
      "execution_count": null,
      "outputs": []
    },
    {
      "cell_type": "markdown",
      "source": [
        "# Sample Code"
      ],
      "metadata": {
        "id": "8SA709aQXZCe"
      }
    },
    {
      "cell_type": "code",
      "source": [
        "!ls /content/HepMC3"
      ],
      "metadata": {
        "colab": {
          "base_uri": "https://localhost:8080/"
        },
        "id": "7nCIbUEPJmE3",
        "outputId": "a3d6542b-3424-4b39-8da4-26c69084778d"
      },
      "execution_count": null,
      "outputs": [
        {
          "output_type": "stream",
          "name": "stdout",
          "text": [
            "AUTHORS    CMakeLists.txt    include\t README-for-developers\ttest\n",
            "build\t   COPYING\t     interfaces  README.md\n",
            "ChangeLog  doc\t\t     LICENCE\t rootIO\n",
            "CI\t   examples\t     protobufIO  search\n",
            "cmake\t   HepMC3-config.in  python\t src\n"
          ]
        }
      ]
    },
    {
      "cell_type": "code",
      "source": [
        "!find / -name hepmc2to3 2>/dev/null"
      ],
      "metadata": {
        "id": "6PzGov2B4sHK"
      },
      "execution_count": null,
      "outputs": []
    },
    {
      "cell_type": "code",
      "source": [
        "!g++ /content/HepMC3/tools/hepmc2to3.cc \\\n",
        "     -I/content/HepMC3/include \\\n",
        "     -o hepmc2to3 \\\n",
        "     -L/usr/local/lib -lHepMC3"
      ],
      "metadata": {
        "colab": {
          "base_uri": "https://localhost:8080/"
        },
        "id": "0gJNGibj2s_f",
        "outputId": "daae3d25-ba01-491e-d194-6a060cb358b3"
      },
      "execution_count": null,
      "outputs": [
        {
          "output_type": "stream",
          "name": "stdout",
          "text": [
            "\u001b[01m\u001b[Kcc1plus:\u001b[m\u001b[K \u001b[01;31m\u001b[Kfatal error: \u001b[m\u001b[K/content/HepMC3/tools/hepmc2to3.cc: No such file or directory\n",
            "compilation terminated.\n"
          ]
        }
      ]
    },
    {
      "cell_type": "code",
      "source": [
        "!/usr/local/bin/hepmc2to3 ttbar.hepmc ttbar.hepmc3"
      ],
      "metadata": {
        "colab": {
          "base_uri": "https://localhost:8080/"
        },
        "id": "ciwKE8cI4xKj",
        "outputId": "13458fa8-5af1-407f-f207-5e6cbe34bcc6"
      },
      "execution_count": null,
      "outputs": [
        {
          "output_type": "stream",
          "name": "stdout",
          "text": [
            "/bin/bash: line 1: /usr/local/bin/hepmc2to3: No such file or directory\n"
          ]
        }
      ]
    },
    {
      "cell_type": "code",
      "source": [
        "import requests\n",
        "\n",
        "url = \"https://opendata.cern.ch/record/7681/files/hepmc_ttbar_MadGraph.dat\"\n",
        "output_file = \"ttbar.hepmc\"\n",
        "\n",
        "response = requests.get(url)\n",
        "with open(output_file, 'wb') as f:\n",
        "    f.write(response.content)\n",
        "\n",
        "print(\"Downloaded:\", output_file)"
      ],
      "metadata": {
        "colab": {
          "base_uri": "https://localhost:8080/"
        },
        "id": "HKGiONek2SKQ",
        "outputId": "10258d8d-ad53-4489-b787-c14520d95fc8"
      },
      "execution_count": null,
      "outputs": [
        {
          "output_type": "stream",
          "name": "stdout",
          "text": [
            "Downloaded: ttbar.hepmc\n"
          ]
        }
      ]
    },
    {
      "cell_type": "code",
      "source": [
        "!/usr/local/bin/hepmc2to3 ttbar.hepmc ttbar.hepmc3"
      ],
      "metadata": {
        "colab": {
          "base_uri": "https://localhost:8080/"
        },
        "id": "vJrdw54K2cFo",
        "outputId": "0bfd4d97-ee06-4eb2-f99c-17fbbbc64929"
      },
      "execution_count": null,
      "outputs": [
        {
          "output_type": "stream",
          "name": "stdout",
          "text": [
            "/bin/bash: line 1: /usr/local/bin/hepmc2to3: No such file or directory\n"
          ]
        }
      ]
    },
    {
      "cell_type": "code",
      "execution_count": null,
      "metadata": {
        "colab": {
          "base_uri": "https://localhost:8080/"
        },
        "id": "F494dCvxte2Q",
        "outputId": "87050c84-aa85-4050-f3bb-984871b4236f"
      },
      "outputs": [
        {
          "output_type": "stream",
          "name": "stdout",
          "text": [
            "Downloaded: ttbar.hepmc\n"
          ]
        }
      ],
      "source": [
        "import requests\n",
        "\n",
        "url = \"https://opendata.cern.ch/record/7681/files/hepmc_ttbar_MadGraph.dat\"\n",
        "output_file = \"ttbar.hepmc\"\n",
        "\n",
        "response = requests.get(url)\n",
        "with open(output_file, 'wb') as f:\n",
        "    f.write(response.content)\n",
        "\n",
        "print(\"Downloaded:\", output_file)\n",
        "\n",
        "with pyhepmc.open(output_file) as f:\n",
        "    # Process the HepMC data here\n",
        "    for event in f:\n",
        "        e=event"
      ]
    },
    {
      "cell_type": "code",
      "source": [
        "fd = hepmc_event_to_feynman(event)\n",
        "fd.legs[0].with_xy(7,-7).with_external(r\"$\\textcolor{green}{p}$\").style.color = \"green\"\n",
        "fd.legs[1].with_xy(-6,6).with_external(r\"$\\textcolor{green}{p}$\").style.color = \"green\"\n",
        "\n",
        "props=[]\n",
        "for prop in fd.propagators:\n",
        "    if prop.id in [\"Propagator\" + str(ii) for ii in [\n",
        "        187,\n",
        "        188,\n",
        "        189, 192,\n",
        "        190, 361, 505, 592, 647, 648,\n",
        "        191, 362, 506, 593]]:\n",
        "        prop.style.color=\"red\"\n",
        "        props += [prop]\n",
        "\n",
        "for p in props:\n",
        "    fd.remove_propagator(p)\n",
        "fd.propagators += props\n",
        "\n",
        "for prop in fd.legs:\n",
        "    if prop.id in [\"Leg\" + str(ii) for ii in [\n",
        "        187,\n",
        "        188,\n",
        "        189, 192,\n",
        "        190, 361, 505, 592, 647, 648,\n",
        "        191, 362, 506, 593]]:\n",
        "        prop.style.color=\"blue\"\n",
        "        if prop.pdgid == 22:\n",
        "            prop.with_xy(0,6).with_external(r\"$\\textcolor{blue}{\\gamma}$\")\n",
        "\n",
        "\n",
        "\n",
        "\n",
        "d = remove_unnecessary_vertices(fd)\n",
        "d = feynman_adjust_points(d,size=15)\n",
        "auto_bend(d)\n",
        "\n",
        "t = TikzFeynmanRender(d)"
      ],
      "metadata": {
        "colab": {
          "base_uri": "https://localhost:8080/",
          "height": 211
        },
        "id": "QNTenlPPxBmX",
        "outputId": "dc7963a5-f541-4708-cce2-e324e627c687"
      },
      "execution_count": null,
      "outputs": [
        {
          "output_type": "error",
          "ename": "NameError",
          "evalue": "name 'event' is not defined",
          "traceback": [
            "\u001b[0;31m---------------------------------------------------------------------------\u001b[0m",
            "\u001b[0;31mNameError\u001b[0m                                 Traceback (most recent call last)",
            "\u001b[0;32m<ipython-input-17-dd2e8269b8dc>\u001b[0m in \u001b[0;36m<cell line: 0>\u001b[0;34m()\u001b[0m\n\u001b[0;32m----> 1\u001b[0;31m \u001b[0mfd\u001b[0m \u001b[0;34m=\u001b[0m \u001b[0mhepmc_event_to_feynman\u001b[0m\u001b[0;34m(\u001b[0m\u001b[0mevent\u001b[0m\u001b[0;34m)\u001b[0m\u001b[0;34m\u001b[0m\u001b[0;34m\u001b[0m\u001b[0m\n\u001b[0m\u001b[1;32m      2\u001b[0m \u001b[0mfd\u001b[0m\u001b[0;34m.\u001b[0m\u001b[0mlegs\u001b[0m\u001b[0;34m[\u001b[0m\u001b[0;36m0\u001b[0m\u001b[0;34m]\u001b[0m\u001b[0;34m.\u001b[0m\u001b[0mwith_xy\u001b[0m\u001b[0;34m(\u001b[0m\u001b[0;36m7\u001b[0m\u001b[0;34m,\u001b[0m\u001b[0;34m-\u001b[0m\u001b[0;36m7\u001b[0m\u001b[0;34m)\u001b[0m\u001b[0;34m.\u001b[0m\u001b[0mwith_external\u001b[0m\u001b[0;34m(\u001b[0m\u001b[0;34mr\"$\\textcolor{green}{p}$\"\u001b[0m\u001b[0;34m)\u001b[0m\u001b[0;34m.\u001b[0m\u001b[0mstyle\u001b[0m\u001b[0;34m.\u001b[0m\u001b[0mcolor\u001b[0m \u001b[0;34m=\u001b[0m \u001b[0;34m\"green\"\u001b[0m\u001b[0;34m\u001b[0m\u001b[0;34m\u001b[0m\u001b[0m\n\u001b[1;32m      3\u001b[0m \u001b[0mfd\u001b[0m\u001b[0;34m.\u001b[0m\u001b[0mlegs\u001b[0m\u001b[0;34m[\u001b[0m\u001b[0;36m1\u001b[0m\u001b[0;34m]\u001b[0m\u001b[0;34m.\u001b[0m\u001b[0mwith_xy\u001b[0m\u001b[0;34m(\u001b[0m\u001b[0;34m-\u001b[0m\u001b[0;36m6\u001b[0m\u001b[0;34m,\u001b[0m\u001b[0;36m6\u001b[0m\u001b[0;34m)\u001b[0m\u001b[0;34m.\u001b[0m\u001b[0mwith_external\u001b[0m\u001b[0;34m(\u001b[0m\u001b[0;34mr\"$\\textcolor{green}{p}$\"\u001b[0m\u001b[0;34m)\u001b[0m\u001b[0;34m.\u001b[0m\u001b[0mstyle\u001b[0m\u001b[0;34m.\u001b[0m\u001b[0mcolor\u001b[0m \u001b[0;34m=\u001b[0m \u001b[0;34m\"green\"\u001b[0m\u001b[0;34m\u001b[0m\u001b[0;34m\u001b[0m\u001b[0m\n\u001b[1;32m      4\u001b[0m \u001b[0;34m\u001b[0m\u001b[0m\n\u001b[1;32m      5\u001b[0m \u001b[0mprops\u001b[0m\u001b[0;34m=\u001b[0m\u001b[0;34m[\u001b[0m\u001b[0;34m]\u001b[0m\u001b[0;34m\u001b[0m\u001b[0;34m\u001b[0m\u001b[0m\n",
            "\u001b[0;31mNameError\u001b[0m: name 'event' is not defined"
          ]
        }
      ]
    },
    {
      "cell_type": "code",
      "source": [
        "# Step 1: Export LaTeX code (this assumes the .tex content is stored)\n",
        "tex_content = t.get_src()  # Get the LaTeX source\n",
        "with open(\"/content/feynman_diagram.tex\", \"w\") as f:\n",
        "    f.write(tex_content)\n",
        "\n",
        "# Step 2: Download the LaTeX file\n",
        "from google.colab import files\n",
        "files.download(\"/content/feynman_diagram.tex\")\n",
        "\n",
        "!pdflatex feynman_diagram.tex"
      ],
      "metadata": {
        "id": "HkAbvEzvxGvn"
      },
      "execution_count": null,
      "outputs": []
    },
    {
      "cell_type": "code",
      "source": [
        "from pdf2image import convert_from_path\n",
        "from IPython.display import display\n",
        "\n",
        "pages = convert_from_path(\"feynman_diagram.pdf\")\n",
        "pages[0].save(\"feynman_diagram.png\", \"PNG\")\n",
        "display(pages[0])"
      ],
      "metadata": {
        "id": "ZxApYapuBEmY"
      },
      "execution_count": null,
      "outputs": []
    },
    {
      "cell_type": "code",
      "source": [],
      "metadata": {
        "id": "Z4Lub27tB8ve"
      },
      "execution_count": null,
      "outputs": []
    }
  ]
}